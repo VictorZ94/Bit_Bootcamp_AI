{
 "cells": [
  {
   "cell_type": "code",
   "execution_count": 318,
   "metadata": {},
   "outputs": [],
   "source": [
    "import pandas as pd\n",
    "import matplotlib.pyplot as plt\n",
    "import seaborn as sns\n",
    "import nltk\n",
    "import re\n",
    "from nltk.corpus import stopwords\n",
    "from sklearn.feature_extraction.text import CountVectorizer\n",
    "from sklearn.model_selection import train_test_split\n",
    "from sklearn.metrics import accuracy_score, classification_report, confusion_matrix\n",
    "from sklearn.naive_bayes import MultinomialNB"
   ]
  },
  {
   "cell_type": "code",
   "execution_count": 319,
   "metadata": {},
   "outputs": [
    {
     "data": {
      "text/html": [
       "<div>\n",
       "<style scoped>\n",
       "    .dataframe tbody tr th:only-of-type {\n",
       "        vertical-align: middle;\n",
       "    }\n",
       "\n",
       "    .dataframe tbody tr th {\n",
       "        vertical-align: top;\n",
       "    }\n",
       "\n",
       "    .dataframe thead th {\n",
       "        text-align: right;\n",
       "    }\n",
       "</style>\n",
       "<table border=\"1\" class=\"dataframe\">\n",
       "  <thead>\n",
       "    <tr style=\"text-align: right;\">\n",
       "      <th></th>\n",
       "      <th>texto</th>\n",
       "      <th>clase</th>\n",
       "    </tr>\n",
       "  </thead>\n",
       "  <tbody>\n",
       "    <tr>\n",
       "      <th>0</th>\n",
       "      <td>El año pasado la Ciudad de México se estremeci...</td>\n",
       "      <td>fake</td>\n",
       "    </tr>\n",
       "    <tr>\n",
       "      <th>1</th>\n",
       "      <td>Manuela Carmena pide a los madrileños que guar...</td>\n",
       "      <td>fake</td>\n",
       "    </tr>\n",
       "    <tr>\n",
       "      <th>2</th>\n",
       "      <td>Una fuerte sorpresa se llevó el todavía presid...</td>\n",
       "      <td>fake</td>\n",
       "    </tr>\n",
       "    <tr>\n",
       "      <th>3</th>\n",
       "      <td>La 1 de Televisión Española repitió ayer como ...</td>\n",
       "      <td>fake</td>\n",
       "    </tr>\n",
       "    <tr>\n",
       "      <th>4</th>\n",
       "      <td>685 curas católicos fueron acusados de abuso s...</td>\n",
       "      <td>real</td>\n",
       "    </tr>\n",
       "  </tbody>\n",
       "</table>\n",
       "</div>"
      ],
      "text/plain": [
       "                                               texto clase\n",
       "0  El año pasado la Ciudad de México se estremeci...  fake\n",
       "1  Manuela Carmena pide a los madrileños que guar...  fake\n",
       "2  Una fuerte sorpresa se llevó el todavía presid...  fake\n",
       "3  La 1 de Televisión Española repitió ayer como ...  fake\n",
       "4  685 curas católicos fueron acusados de abuso s...  real"
      ]
     },
     "execution_count": 319,
     "metadata": {},
     "output_type": "execute_result"
    }
   ],
   "source": [
    "df = pd.read_csv('spanishFakeNews.csv')\n",
    "df.head()\n"
   ]
  },
  {
   "cell_type": "code",
   "execution_count": 320,
   "metadata": {},
   "outputs": [
    {
     "name": "stderr",
     "output_type": "stream",
     "text": [
      "[nltk_data] Downloading package stopwords to /home/vscode/nltk_data...\n",
      "[nltk_data]   Package stopwords is already up-to-date!\n"
     ]
    },
    {
     "data": {
      "text/plain": [
       "True"
      ]
     },
     "execution_count": 320,
     "metadata": {},
     "output_type": "execute_result"
    }
   ],
   "source": [
    "stemmer = nltk.stem.SnowballStemmer('spanish')\n",
    "nltk.download('stopwords')\n"
   ]
  },
  {
   "cell_type": "code",
   "execution_count": 321,
   "metadata": {},
   "outputs": [
    {
     "name": "stdout",
     "output_type": "stream",
     "text": [
      "Gran sorpresa y asombró experimentan millones de mexicanos luego de que el nuevo presidente electo, López Obrador, organizará una conferencia de prensa para informar que ha decidido renunciar a su cargo de Jefe de Estado, esto tras percatarse que \"ser mandatario de un país es un negocio exclusivo para la mafia del poder\", señalando que pese a ser uno de los hombres más buenos del universo poco a poco ha comenzado a dejarse seducir por la corrupción , por lo que prefiere \"terminar con el pueblo de México\" antes de hacerle daño. Obrador menciona que los 15 años que duró siendo candidato \"era una persona normal, rechazado y odiado por muchos\", sin embargo cuando tomó el poder hasta sus adversarios se rindieron a sus pies, cosa que lo ha descontrolado: \"Quiero aclarar que ahora entiendo a la mafia del poder, no los justificó pero definitivamente comprendo que el hecho de tener tanto poder descontrola a cualquiera, incluso a los que tenemos un nivel de santidad solo debajo de nuestro señor Jesucrito como yo. Durante los 15 años que duré en campaña fui una persona poderosa, pero siempre tenía ese ladrillo que mantenía mis pies en la Tierra: el hecho de ser odiado, repudiado y que muchos se burlaran de mi me equilibraba emocionalmente, pero ahora que tengo el poder absoluto realmente he comenzado a corromperme, y es mejor aceptarlo y alejarme de inmediato antes de hacerle daño a la gente que tanto amo. Es difícil de entender, pero imaginen que haya alguien que los frene en sus sueños y este por encima de ustedes, pero ahora imaginen que no hay nadie superior, que ustedes dominan todo y son los que imponen la reglas; lo que sea, lo que quieran, lo que se les antoje. Así estoy yo, puedo acabar con alguien o tener lo que quiera con mover un dedo, esto realmente me ha descontrolado, y prefiero irme ahora, que terminar siendo un Carlos Salinas más del montón\", comentó entristecido. Andrés Manuel señala que es precisamente su enorme divinidad y santidad lo que lo orilla a retirarse: \"yo se que muchos me consideran un Dios pero aunque no lo crean también soy humano, con defectos y virtudes, aunque más virtudes la verdad. Precisamente mi objetividad es lo que me hace despedirme de todos ustedes: con solo unos días en el poder ya me está creciendo copete cómo Peña, Saliendo unas orejotas como Salinas, y cada vez tengo la dentadura más grande como Díaz Ordaz. Me retiro antes de que me eche para atrás en vender el avión presidencial y me lo quede, o adquiera mi primera Casa Blanca, de la cual por cierto ya di el enganche\", puntualizó sollozando. Por su parte, el INE señaló que tras la renuncia automáticamente se le dará la presidencia al segundo lugar de las elecciones, por lo que desde el lunes el señor Ricardo Anaya será el nuevo presidente de México \"porque así lo dispuso el pueblo\".\n",
      "fake\n"
     ]
    }
   ],
   "source": [
    "print(df['texto'][15])\n",
    "print(df['clase'][15])"
   ]
  },
  {
   "cell_type": "code",
   "execution_count": 322,
   "metadata": {},
   "outputs": [
    {
     "data": {
      "text/plain": [
       "Text(30.570061728395068, 0.5, 'Conteo')"
      ]
     },
     "execution_count": 322,
     "metadata": {},
     "output_type": "execute_result"
    },
    {
     "data": {
      "image/png": "[encoded data removed]",
      "text/plain": [
       "<Figure size 511.111x500 with 1 Axes>"
      ]
     },
     "metadata": {},
     "output_type": "display_data"
    }
   ],
   "source": [
    "sns.catplot(x='clase', kind='count', color='r', data=df)\n",
    "plt.title('Distribución de Ejemplos')\n",
    "plt.xlabel('Noticia')\n",
    "plt.ylabel('Conteo')"
   ]
  },
  {
   "cell_type": "code",
   "execution_count": 323,
   "metadata": {},
   "outputs": [],
   "source": [
    "def processing_text(texto):\n",
    "  # Paso 1: Remover con un expresión regular carateres especiales (no␣ ,→palabras).\n",
    "  processed_feature = re.sub(r'\\W', ' ', str(texto))\n",
    "  # Paso 2: Remover ocurrencias de caracteres individuales\n",
    "  processed_feature= re.sub(r'\\s+[a-zA-Z]\\s+', ' ', processed_feature)\n",
    "  processed_feature = re.sub(r'\\^[a-zA-Z]\\s+', ' ', processed_feature)\n",
    "  # Paso 3: Remover números (Ocurrencias muy esporádicas en nuestro dataset)\n",
    "  processed_feature = re.sub(r'[0-9]+', ' ', processed_feature)\n",
    "  # Paso 4: Simplificar espacios concecutivos a un único espacio entre, palabras\n",
    "  processed_feature = re.sub(' +', ' ', processed_feature)\n",
    "   # Paso 5: Pasar todo el texto a minúsculas\n",
    "  processed_feature = processed_feature.lower()\n",
    "  processed_feature = \" \".join([stemmer.stem(i) for i in processed_feature.split()])\n",
    "  # Paso 6: remover tildes y diéresis y ñ\n",
    "  processed_feature = processed_feature.replace('á', 'a')\n",
    "  processed_feature = processed_feature.replace('é', 'e')\n",
    "  processed_feature = processed_feature.replace('í', 'i')\n",
    "  processed_feature = processed_feature.replace('ó', 'o')\n",
    "  processed_feature = processed_feature.replace('ú', 'u')\n",
    "  processed_feature = processed_feature.replace('ü', 'u')\n",
    "  processed_feature = processed_feature.replace('ñ', 'n')\n",
    "  processed_feature = re.sub(r'[¿¡“”«»—]', '', processed_feature)\n",
    "  return processed_feature"
   ]
  },
  {
   "cell_type": "code",
   "execution_count": 324,
   "metadata": {},
   "outputs": [],
   "source": [
    "texto_para_procesar = df['texto'].values\n",
    "labels = df['clase'].values\n",
    "\n",
    "texto_procesado = []\n",
    "for sentence in range(0, len(texto_para_procesar)):\n",
    "    procesado = processing_text(texto_para_procesar[sentence])\n",
    "    texto_procesado.append(procesado)"
   ]
  },
  {
   "cell_type": "code",
   "execution_count": 325,
   "metadata": {},
   "outputs": [
    {
     "data": {
      "text/plain": [
       "['el ano pas la ciud de mexic se estremec lueg de que se anunci que godzill lleg la ciud per no de form literal porqu el mounstr ni siqu exist en la vid real sin que los productor film escen de la nuev pelicul lo que origin una gran expect sobr tod divert chist mem sobr el fatal destin que tendr godzill al pis nuestr pais fue poc lo que se sup del tem principal porqu el rodaj fue mas rap de lo que se esper sol dos seman a diferent de otras cint com la de jam bond spectr dond se denunc que hab dan edifici la filmacion de godzill corr sin contratiemp com si sol hub grab tom las fach de algun edifici com estas pelicul tard anos en sal la luz final mostr dos trailers oficial de la cint que se estren en el veran del ver com godzill destru la cdmx por lo men la ciud aparec unos segund en la cint ya que much vec estas cint film aqu hac much ruid per en realid nuestr pais termin sol sal un par de minut cuadr en el trail no se apreci cienci exact si godzill atac mexic per si se visualiz perfect com una libelul gigant destroz el centr histor de la cdmx ademas pod ver al godzill pel con un mounstr de cabez en una ciud que tal vez son nuestr gan de que aparezc nuestr pais parec ser la capital chilang habr que ver si mexic tien un papel import sol es escenari par unos segund de tram com suced con spectr cuy rodaj caus much revuel al final mexic sal unos poc minut con filtr color cac par acabal de amol no es por ser pesim per parec que realment mexic no tendr un papel import ya que ademas de que el rodaj fue brev com mencion no hub contratiemp principal en el laps del rodaj jamas se vio que arrib mexic algun de los protagon com milli bobby brown la nin de stang things ver farmig sally hawkins la protagon de la form del agu ni otros actor por lo que parec ser que efect nuestr pais sol saldr uso segund par present la libelul gigant mostr com es capaz de destroz ciudad par lueg enfrent godzill sean per manzan aqu te dej los dos trailers de la cint pued reconoc que part es dond sal mexic',\n",
       " 'manuel carmen pid los madrilen que guard las lat las bols de la basur par hac los vest de los rey mag el mund today radi pris contrat pitonis par que hag el escrutini electoral de las proxim eleccion',\n",
       " 'una fuert sorpres se llev el todav president enriqu pen niet al arrib los pin par termin de hac su malet desaloj la resident oficial el dia de manan encontr con la sorpres de encontr en la cam su espos angel river al ahor nuev mandatari lopez obrador en una situacion muy comprometedor epn mencion que aunqu ambos personaj sol estab abraz se vei muy sospech ya que no es normal que dos extran unan sus cuerp de dich maner tod el dia de hoy estuv ocup firm los ultim contrat ilicit par benefici mis amig dig par dej tod list par darl la president obrador no tuv tiemp de hac mi malet por eso en la noch lleg rapidisim arregl mis cos entre mi cuart sin avis lo primer que veo es mi espos acost en la cam con andres manuel no estab desnud ni bes per no es normal que algui este asi con tu espos men riendos de lo lind confes entristec niet mencion que la gaviot amlo les val poc que lo vier sol le explic que hab termin abraz por error ash ya lleg enriqu estab ensen amlo el que ser su nuev cuart aqu en los pin le ped que me ayud mov el bur de al lad sin quer nos caim tod fue tan divert lueg entrast tu arruin la diversion com siempr ash coment river segun vari medi se rumor que angel utiliz su sensual bellez par continu siend primer dam por anos mas ya que no esta dispuest sacrific los luj que tien ya no eres president ahor que me daras ya no tien ni pension nadi te quier en la polit hast televis ya te quit la ofert de ser galan de telenovel com piens manten mi estil de vid respond animal que por anos te solap per ahorit ya no tien pod le coment la gaviot enoj kik segun vari medi river logr sac su whatsapp amlo promet que lo ayud en tod hast pued ir su cas de vez en cuand par explic el funcion de la mansion asi poc poc irlo seduc utiliz su arma infal que es la sensual logr su comet de continu siend primer dam',\n",
       " 'la de television espanol repit ayer com caden mas vist sin dud el trasl de los desayun de la las fue tod un exit el interes periodist de ver su prim invit albert river beb caf no un whisky col esas hor de la noch proporcion al program un excelent de shar el segund puest del podi de los dios del olimp televis lo consigu la sext con la emision del vide de las vacacion en lanzarot de antoni garc ferrer ana pastor el minut de oro fue la emot sorpres que pastor le dio su mar en el hotel hab buffet libr sin embarg el moment que pas la histori de la television fue la visit al lor park de lanzarot dond la period interrump constant los lor telecinc obtuv unos dat algo mas discret con una edicion especial de pasapalabr con javi carden ros de espan com invit ningun de ellos consigu el bot si la direccion del concurs aun sig intent descifr las respuest de ambas celebr peor audienci consigu anten con tu car me suen el de ayer fue un program dedic las imit polit pes de que juan munoz gan la gal imit pedr sanchez la concurs yoland ram caracteriz de susan diaz impugn las votacion cre una gestor con uno que cant en auryn esther arroy mientr no se solucion el embroll el lid del program ser un foc del plat entre las opcion men atract par el public encontr la propuest de cuatr que ayer emit la pelicul n men la version espanol de una conoc pelicul de sup her el protagon de unas afil torrezn al que de jov pic una tap de bar radioact no consigu la atencion del espect sorprendent la fue la ultim opcion par los espanol la nuev version de la mis de la no convenc el format ha sid moderniz per quiz el espect habitual no esta acostumbr al format lat la entrev con el cigal habl de las escritur apocrif fue interes el moment mas divert fue la aparicion del personaj cre por silvi abril la nin de yahv las autonom no viv su mejor noch tv emit el documental independenc day en el que will smith recuerd los hech de cuand las trop espanol envi nav espacial par conquist barcelon el reality de tvg perceb busc percebeir el inform econom de canal sur chirigot news marc su minim histor de esta tempor',\n",
       " 'cur catol fueron acus de abus sexual contr menor en las ultim dec en illinois revel este miercol de diciembr del lis madig fiscal de este estad del centr oest de estad unid las diocesis de illinois public los nombr de cur involucr en acus seri per el exam de sus archiv revel que hab sid notific de acus contr al men cur mas escrib la fiscal en un inform prelimin los result provisori de una investig que comenz en agost del encontr que en las seis diocesis del estad habr al men sacerdot miembr del cler acus en una declar mordaz la oficin de la procur general critic el manej de las acus de abus por part de la iglesi dic que falt las investig en much cas las autor policial de bienest infantil ni siqu fueron notific las etap preliminar de esta investig ya han demostr que la iglesi catol no pued control si mism dij madig anad que la iglesi no hab proporcion un inform complet precis de tod los comport sexual inapropi que involucr los sacerdot en illinois la investig de illinois fue motiv por un ampli inform del gran jur en agost que revel acus de pedofili creibl contr mas de sacerdot identific mas de victim de agresion sexual infantil encubiert durant dec por la iglesi catol en el estad de pensilvani en octubr las autor federal abrieron por primer vez una investig sobr el abus del cler las diocesis del estad inform hab recib citacion del gran jur federal par produc inform impact larg esper la arquidiocesis de chicag la mas grand de illinois respond al inform de madig insist en que tod las denunci de abus se investig se inform las autor desd hem public los nombr de los sacerdot diocesan sobr los que pes alegat fundament de abus en public mas de document de los archiv de estos sacerdot senal la archidiocesis en un comunic sin embarg la oficin de madig asegur que menud las acus de abus no han sid investig adecu una de las razon de esa falt de accion es que el acus hab fallec ya hab renunci este inform es impact es exact lo que esper dij la afp zach hin director ejecut de la red de sobrevivient de los abus por sacerdot snap sab hac much tiemp que los funcionari de la iglesi han estad ignor minimiz las acus de abus este inform es sol otra prueb de que se trat de un problem sistem no sol local una presion en aument desd que se abri la investig en el estad las diocesis han sum otros miembr del cler sus list oficial de acus sospech con razon consistent de hab comet abus sexual infantil segun la oficin de madig la fiscal general anticip que se divulg mas nombr med que se profundic la investig las denunci de abus sexual menor inclus si deriv de una conduct que ocurr hac much anos no pued ser trat com mer asunt intern dij madig la iglesi catol ha sid golp por una seri de escandal de abus infantil en los ultim anos con denunci generaliz de encubr la presion public ha ido aument sobr sus institu en diciembr las autor de la orden jesuit que supervis al men estad de estad unid dieron conoc los nombr de mas de de sus miembr que han sid acus de abus entre ellos decen de sacerdot objet de multipl denunci los jesuit constitu la orden religi masculin mas grand de la iglesi catol con unos miembr en tod el mund que no estan direct baj la jerarqu de la iglesi en estad unid canad oper colegi escuel']"
      ]
     },
     "execution_count": 325,
     "metadata": {},
     "output_type": "execute_result"
    }
   ],
   "source": [
    "texto_procesado[:5]"
   ]
  },
  {
   "cell_type": "code",
   "execution_count": 326,
   "metadata": {},
   "outputs": [
    {
     "name": "stdout",
     "output_type": "stream",
     "text": [
      "Sin procesar:\n",
      "Durante la toma de protesta de López Obrador, sorpresivamente un personaje cobró enorme popularidad al grado de que ya es una celebridad en las redes sociales: se trata de Giovanni Lizárraga, un joven cadete elegido para colocarle la banda presidencial al nuevo mandatario, y que sirvió como guardia durante el evento protocolario. Lizárraga llamó la atención de las mujeres y los gays por ser atractivo y bien parecido , e incluso también tuvo el interés de los varones heterosexuales, quienes comenzaron a criticarlo y asegurar \"que el cadete no es tan atractivo y las mujeres se emocionan por cualquier cosa\". Sean peras o manzanas, el hombre arrancó suspiros, y es por eso que rápidamente comenzaron a circular unas aparentes fotografías del chico totalmente desnudo, y mostrando su miembro erecto. Las imágenes rápidamente se viralizaron, sin embargo, algunos notaron que el hombre encuerado de las fotos efectivamente se parece al viril cadete, pero en realidad podría no tratarse de él ya que lucen algo distintos. Son varios los que aseguran que las fotos del encuerado no es Giovanni, otros comentan que sí, y las y los más golosos revelan que no les importa si es o no, pero igual \"se les antojó el trozo del encuerado\".\n",
      "---------------------------------\n",
      "Procesado:\n",
      "durant la tom de protest de lopez obrador sorpres un personaj cobr enorm popular al grad de que ya es una celebr en las red social se trat de giovanni lizarrag un jov cadet eleg par coloc la band presidencial al nuev mandatari que sirv com guardi durant el event protocolari lizarrag llam la atencion de las mujer los gays por ser atract bien parec inclus tambien tuv el interes de los varon heterosexual quien comenz critic asegur que el cadet no es tan atract las mujer se emocion por cualqui cos sean per manzan el hombr arranc suspir es por eso que rapid comenz circul unas aparent fotograf del chic total desnud mostr su miembr erect las imagen rapid se viraliz sin embarg algun not que el hombr encuer de las fot efect se parec al viril cadet per en realid podr no trat de el ya que luc algo distint son vari los que asegur que las fot del encuer no es giovanni otros coment que si las los mas golos revel que no les import si es no per igual se les antoj el troz del encuer\n"
     ]
    }
   ],
   "source": [
    "print(\"Sin procesar:\")\n",
    "print(texto_para_procesar[289])\n",
    "print(\"---------------------------------\")\n",
    "print(\"Procesado:\")\n",
    "print(texto_procesado[289])"
   ]
  },
  {
   "cell_type": "code",
   "execution_count": 327,
   "metadata": {},
   "outputs": [
    {
     "name": "stdout",
     "output_type": "stream",
     "text": [
      "['de', 'la', 'que', 'el', 'en', 'y', 'a', 'los', 'del', 'se', 'las', 'por', 'un', 'para', 'con', 'no', 'una', 'su', 'al', 'lo', 'como', 'más', 'pero', 'sus', 'le', 'ya', 'o', 'este', 'sí', 'porque', 'esta', 'entre', 'cuando', 'muy', 'sin', 'sobre', 'también', 'me', 'hasta', 'hay', 'donde', 'quien', 'desde', 'todo', 'nos', 'durante', 'todos', 'uno', 'les', 'ni', 'contra', 'otros', 'ese', 'eso', 'ante', 'ellos', 'e', 'esto', 'mí', 'antes', 'algunos', 'qué', 'unos', 'yo', 'otro', 'otras', 'otra', 'él', 'tanto', 'esa', 'estos', 'mucho', 'quienes', 'nada', 'muchos', 'cual', 'poco', 'ella', 'estar', 'estas', 'algunas', 'algo', 'nosotros', 'mi', 'mis', 'tú', 'te', 'ti', 'tu', 'tus', 'ellas', 'nosotras', 'vosotros', 'vosotras', 'os', 'mío', 'mía', 'míos', 'mías', 'tuyo', 'tuya', 'tuyos', 'tuyas', 'suyo', 'suya', 'suyos', 'suyas', 'nuestro', 'nuestra', 'nuestros', 'nuestras', 'vuestro', 'vuestra', 'vuestros', 'vuestras', 'esos', 'esas', 'estoy', 'estás', 'está', 'estamos', 'estáis', 'están', 'esté', 'estés', 'estemos', 'estéis', 'estén', 'estaré', 'estarás', 'estará', 'estaremos', 'estaréis', 'estarán', 'estaría', 'estarías', 'estaríamos', 'estaríais', 'estarían', 'estaba', 'estabas', 'estábamos', 'estabais', 'estaban', 'estuve', 'estuviste', 'estuvo', 'estuvimos', 'estuvisteis', 'estuvieron', 'estuviera', 'estuvieras', 'estuviéramos', 'estuvierais', 'estuvieran', 'estuviese', 'estuvieses', 'estuviésemos', 'estuvieseis', 'estuviesen', 'estando', 'estado', 'estada', 'estados', 'estadas', 'estad', 'he', 'has', 'ha', 'hemos', 'habéis', 'han', 'haya', 'hayas', 'hayamos', 'hayáis', 'hayan', 'habré', 'habrás', 'habrá', 'habremos', 'habréis', 'habrán', 'habría', 'habrías', 'habríamos', 'habríais', 'habrían', 'había', 'habías', 'habíamos', 'habíais', 'habían', 'hube', 'hubiste', 'hubo', 'hubimos', 'hubisteis', 'hubieron', 'hubiera', 'hubieras', 'hubiéramos', 'hubierais', 'hubieran', 'hubiese', 'hubieses', 'hubiésemos', 'hubieseis', 'hubiesen', 'habiendo', 'habido', 'habida', 'habidos', 'habidas', 'soy', 'eres', 'es', 'somos', 'sois', 'son', 'sea', 'seas', 'seamos', 'seáis', 'sean', 'seré', 'serás', 'será', 'seremos', 'seréis', 'serán', 'sería', 'serías', 'seríamos', 'seríais', 'serían', 'era', 'eras', 'éramos', 'erais', 'eran', 'fui', 'fuiste', 'fue', 'fuimos', 'fuisteis', 'fueron', 'fuera', 'fueras', 'fuéramos', 'fuerais', 'fueran', 'fuese', 'fueses', 'fuésemos', 'fueseis', 'fuesen', 'sintiendo', 'sentido', 'sentida', 'sentidos', 'sentidas', 'siente', 'sentid', 'tengo', 'tienes', 'tiene', 'tenemos', 'tenéis', 'tienen', 'tenga', 'tengas', 'tengamos', 'tengáis', 'tengan', 'tendré', 'tendrás', 'tendrá', 'tendremos', 'tendréis', 'tendrán', 'tendría', 'tendrías', 'tendríamos', 'tendríais', 'tendrían', 'tenía', 'tenías', 'teníamos', 'teníais', 'tenían', 'tuve', 'tuviste', 'tuvo', 'tuvimos', 'tuvisteis', 'tuvieron', 'tuviera', 'tuvieras', 'tuviéramos', 'tuvierais', 'tuvieran', 'tuviese', 'tuvieses', 'tuviésemos', 'tuvieseis', 'tuviesen', 'teniendo', 'tenido', 'tenida', 'tenidos', 'tenidas', 'tened']\n"
     ]
    }
   ],
   "source": [
    "print(stopwords.words('spanish'))"
   ]
  },
  {
   "cell_type": "code",
   "execution_count": 328,
   "metadata": {},
   "outputs": [],
   "source": [
    "vectorizer = CountVectorizer(max_features=2500, stop_words=stopwords.words('spanish'))\n",
    "texto_features = vectorizer.fit_transform(texto_procesado).toarray()"
   ]
  },
  {
   "cell_type": "code",
   "execution_count": 329,
   "metadata": {},
   "outputs": [
    {
     "data": {
      "text/plain": [
       "array(['abaj', 'abandon', 'abiert', 'abog', 'abon', 'abord', 'abraz',\n",
       "       'abri', 'abril', 'abrir'], dtype=object)"
      ]
     },
     "execution_count": 329,
     "metadata": {},
     "output_type": "execute_result"
    }
   ],
   "source": [
    "vectorizer.get_feature_names_out()[:10]"
   ]
  },
  {
   "cell_type": "code",
   "execution_count": 330,
   "metadata": {},
   "outputs": [
    {
     "data": {
      "text/html": [
       "<style>#sk-container-id-23 {\n",
       "  /* Definition of color scheme common for light and dark mode */\n",
       "  --sklearn-color-text: #000;\n",
       "  --sklearn-color-text-muted: #666;\n",
       "  --sklearn-color-line: gray;\n",
       "  /* Definition of color scheme for unfitted estimators */\n",
       "  --sklearn-color-unfitted-level-0: #fff5e6;\n",
       "  --sklearn-color-unfitted-level-1: #f6e4d2;\n",
       "  --sklearn-color-unfitted-level-2: #ffe0b3;\n",
       "  --sklearn-color-unfitted-level-3: chocolate;\n",
       "  /* Definition of color scheme for fitted estimators */\n",
       "  --sklearn-color-fitted-level-0: #f0f8ff;\n",
       "  --sklearn-color-fitted-level-1: #d4ebff;\n",
       "  --sklearn-color-fitted-level-2: #b3dbfd;\n",
       "  --sklearn-color-fitted-level-3: cornflowerblue;\n",
       "\n",
       "  /* Specific color for light theme */\n",
       "  --sklearn-color-text-on-default-background: var(--sg-text-color, var(--theme-code-foreground, var(--jp-content-font-color1, black)));\n",
       "  --sklearn-color-background: var(--sg-background-color, var(--theme-background, var(--jp-layout-color0, white)));\n",
       "  --sklearn-color-border-box: var(--sg-text-color, var(--theme-code-foreground, var(--jp-content-font-color1, black)));\n",
       "  --sklearn-color-icon: #696969;\n",
       "\n",
       "  @media (prefers-color-scheme: dark) {\n",
       "    /* Redefinition of color scheme for dark theme */\n",
       "    --sklearn-color-text-on-default-background: var(--sg-text-color, var(--theme-code-foreground, var(--jp-content-font-color1, white)));\n",
       "    --sklearn-color-background: var(--sg-background-color, var(--theme-background, var(--jp-layout-color0, #111)));\n",
       "    --sklearn-color-border-box: var(--sg-text-color, var(--theme-code-foreground, var(--jp-content-font-color1, white)));\n",
       "    --sklearn-color-icon: #878787;\n",
       "  }\n",
       "}\n",
       "\n",
       "#sk-container-id-23 {\n",
       "  color: var(--sklearn-color-text);\n",
       "}\n",
       "\n",
       "#sk-container-id-23 pre {\n",
       "  padding: 0;\n",
       "}\n",
       "\n",
       "#sk-container-id-23 input.sk-hidden--visually {\n",
       "  border: 0;\n",
       "  clip: rect(1px 1px 1px 1px);\n",
       "  clip: rect(1px, 1px, 1px, 1px);\n",
       "  height: 1px;\n",
       "  margin: -1px;\n",
       "  overflow: hidden;\n",
       "  padding: 0;\n",
       "  position: absolute;\n",
       "  width: 1px;\n",
       "}\n",
       "\n",
       "#sk-container-id-23 div.sk-dashed-wrapped {\n",
       "  border: 1px dashed var(--sklearn-color-line);\n",
       "  margin: 0 0.4em 0.5em 0.4em;\n",
       "  box-sizing: border-box;\n",
       "  padding-bottom: 0.4em;\n",
       "  background-color: var(--sklearn-color-background);\n",
       "}\n",
       "\n",
       "#sk-container-id-23 div.sk-container {\n",
       "  /* jupyter's `normalize.less` sets `[hidden] { display: none; }`\n",
       "     but bootstrap.min.css set `[hidden] { display: none !important; }`\n",
       "     so we also need the `!important` here to be able to override the\n",
       "     default hidden behavior on the sphinx rendered scikit-learn.org.\n",
       "     See: https://github.com/scikit-learn/scikit-learn/issues/21755 */\n",
       "  display: inline-block !important;\n",
       "  position: relative;\n",
       "}\n",
       "\n",
       "#sk-container-id-23 div.sk-text-repr-fallback {\n",
       "  display: none;\n",
       "}\n",
       "\n",
       "div.sk-parallel-item,\n",
       "div.sk-serial,\n",
       "div.sk-item {\n",
       "  /* draw centered vertical line to link estimators */\n",
       "  background-image: linear-gradient(var(--sklearn-color-text-on-default-background), var(--sklearn-color-text-on-default-background));\n",
       "  background-size: 2px 100%;\n",
       "  background-repeat: no-repeat;\n",
       "  background-position: center center;\n",
       "}\n",
       "\n",
       "/* Parallel-specific style estimator block */\n",
       "\n",
       "#sk-container-id-23 div.sk-parallel-item::after {\n",
       "  content: \"\";\n",
       "  width: 100%;\n",
       "  border-bottom: 2px solid var(--sklearn-color-text-on-default-background);\n",
       "  flex-grow: 1;\n",
       "}\n",
       "\n",
       "#sk-container-id-23 div.sk-parallel {\n",
       "  display: flex;\n",
       "  align-items: stretch;\n",
       "  justify-content: center;\n",
       "  background-color: var(--sklearn-color-background);\n",
       "  position: relative;\n",
       "}\n",
       "\n",
       "#sk-container-id-23 div.sk-parallel-item {\n",
       "  display: flex;\n",
       "  flex-direction: column;\n",
       "}\n",
       "\n",
       "#sk-container-id-23 div.sk-parallel-item:first-child::after {\n",
       "  align-self: flex-end;\n",
       "  width: 50%;\n",
       "}\n",
       "\n",
       "#sk-container-id-23 div.sk-parallel-item:last-child::after {\n",
       "  align-self: flex-start;\n",
       "  width: 50%;\n",
       "}\n",
       "\n",
       "#sk-container-id-23 div.sk-parallel-item:only-child::after {\n",
       "  width: 0;\n",
       "}\n",
       "\n",
       "/* Serial-specific style estimator block */\n",
       "\n",
       "#sk-container-id-23 div.sk-serial {\n",
       "  display: flex;\n",
       "  flex-direction: column;\n",
       "  align-items: center;\n",
       "  background-color: var(--sklearn-color-background);\n",
       "  padding-right: 1em;\n",
       "  padding-left: 1em;\n",
       "}\n",
       "\n",
       "\n",
       "/* Toggleable style: style used for estimator/Pipeline/ColumnTransformer box that is\n",
       "clickable and can be expanded/collapsed.\n",
       "- Pipeline and ColumnTransformer use this feature and define the default style\n",
       "- Estimators will overwrite some part of the style using the `sk-estimator` class\n",
       "*/\n",
       "\n",
       "/* Pipeline and ColumnTransformer style (default) */\n",
       "\n",
       "#sk-container-id-23 div.sk-toggleable {\n",
       "  /* Default theme specific background. It is overwritten whether we have a\n",
       "  specific estimator or a Pipeline/ColumnTransformer */\n",
       "  background-color: var(--sklearn-color-background);\n",
       "}\n",
       "\n",
       "/* Toggleable label */\n",
       "#sk-container-id-23 label.sk-toggleable__label {\n",
       "  cursor: pointer;\n",
       "  display: flex;\n",
       "  width: 100%;\n",
       "  margin-bottom: 0;\n",
       "  padding: 0.5em;\n",
       "  box-sizing: border-box;\n",
       "  text-align: center;\n",
       "  align-items: start;\n",
       "  justify-content: space-between;\n",
       "  gap: 0.5em;\n",
       "}\n",
       "\n",
       "#sk-container-id-23 label.sk-toggleable__label .caption {\n",
       "  font-size: 0.6rem;\n",
       "  font-weight: lighter;\n",
       "  color: var(--sklearn-color-text-muted);\n",
       "}\n",
       "\n",
       "#sk-container-id-23 label.sk-toggleable__label-arrow:before {\n",
       "  /* Arrow on the left of the label */\n",
       "  content: \"▸\";\n",
       "  float: left;\n",
       "  margin-right: 0.25em;\n",
       "  color: var(--sklearn-color-icon);\n",
       "}\n",
       "\n",
       "#sk-container-id-23 label.sk-toggleable__label-arrow:hover:before {\n",
       "  color: var(--sklearn-color-text);\n",
       "}\n",
       "\n",
       "/* Toggleable content - dropdown */\n",
       "\n",
       "#sk-container-id-23 div.sk-toggleable__content {\n",
       "  max-height: 0;\n",
       "  max-width: 0;\n",
       "  overflow: hidden;\n",
       "  text-align: left;\n",
       "  /* unfitted */\n",
       "  background-color: var(--sklearn-color-unfitted-level-0);\n",
       "}\n",
       "\n",
       "#sk-container-id-23 div.sk-toggleable__content.fitted {\n",
       "  /* fitted */\n",
       "  background-color: var(--sklearn-color-fitted-level-0);\n",
       "}\n",
       "\n",
       "#sk-container-id-23 div.sk-toggleable__content pre {\n",
       "  margin: 0.2em;\n",
       "  border-radius: 0.25em;\n",
       "  color: var(--sklearn-color-text);\n",
       "  /* unfitted */\n",
       "  background-color: var(--sklearn-color-unfitted-level-0);\n",
       "}\n",
       "\n",
       "#sk-container-id-23 div.sk-toggleable__content.fitted pre {\n",
       "  /* unfitted */\n",
       "  background-color: var(--sklearn-color-fitted-level-0);\n",
       "}\n",
       "\n",
       "#sk-container-id-23 input.sk-toggleable__control:checked~div.sk-toggleable__content {\n",
       "  /* Expand drop-down */\n",
       "  max-height: 200px;\n",
       "  max-width: 100%;\n",
       "  overflow: auto;\n",
       "}\n",
       "\n",
       "#sk-container-id-23 input.sk-toggleable__control:checked~label.sk-toggleable__label-arrow:before {\n",
       "  content: \"▾\";\n",
       "}\n",
       "\n",
       "/* Pipeline/ColumnTransformer-specific style */\n",
       "\n",
       "#sk-container-id-23 div.sk-label input.sk-toggleable__control:checked~label.sk-toggleable__label {\n",
       "  color: var(--sklearn-color-text);\n",
       "  background-color: var(--sklearn-color-unfitted-level-2);\n",
       "}\n",
       "\n",
       "#sk-container-id-23 div.sk-label.fitted input.sk-toggleable__control:checked~label.sk-toggleable__label {\n",
       "  background-color: var(--sklearn-color-fitted-level-2);\n",
       "}\n",
       "\n",
       "/* Estimator-specific style */\n",
       "\n",
       "/* Colorize estimator box */\n",
       "#sk-container-id-23 div.sk-estimator input.sk-toggleable__control:checked~label.sk-toggleable__label {\n",
       "  /* unfitted */\n",
       "  background-color: var(--sklearn-color-unfitted-level-2);\n",
       "}\n",
       "\n",
       "#sk-container-id-23 div.sk-estimator.fitted input.sk-toggleable__control:checked~label.sk-toggleable__label {\n",
       "  /* fitted */\n",
       "  background-color: var(--sklearn-color-fitted-level-2);\n",
       "}\n",
       "\n",
       "#sk-container-id-23 div.sk-label label.sk-toggleable__label,\n",
       "#sk-container-id-23 div.sk-label label {\n",
       "  /* The background is the default theme color */\n",
       "  color: var(--sklearn-color-text-on-default-background);\n",
       "}\n",
       "\n",
       "/* On hover, darken the color of the background */\n",
       "#sk-container-id-23 div.sk-label:hover label.sk-toggleable__label {\n",
       "  color: var(--sklearn-color-text);\n",
       "  background-color: var(--sklearn-color-unfitted-level-2);\n",
       "}\n",
       "\n",
       "/* Label box, darken color on hover, fitted */\n",
       "#sk-container-id-23 div.sk-label.fitted:hover label.sk-toggleable__label.fitted {\n",
       "  color: var(--sklearn-color-text);\n",
       "  background-color: var(--sklearn-color-fitted-level-2);\n",
       "}\n",
       "\n",
       "/* Estimator label */\n",
       "\n",
       "#sk-container-id-23 div.sk-label label {\n",
       "  font-family: monospace;\n",
       "  font-weight: bold;\n",
       "  display: inline-block;\n",
       "  line-height: 1.2em;\n",
       "}\n",
       "\n",
       "#sk-container-id-23 div.sk-label-container {\n",
       "  text-align: center;\n",
       "}\n",
       "\n",
       "/* Estimator-specific */\n",
       "#sk-container-id-23 div.sk-estimator {\n",
       "  font-family: monospace;\n",
       "  border: 1px dotted var(--sklearn-color-border-box);\n",
       "  border-radius: 0.25em;\n",
       "  box-sizing: border-box;\n",
       "  margin-bottom: 0.5em;\n",
       "  /* unfitted */\n",
       "  background-color: var(--sklearn-color-unfitted-level-0);\n",
       "}\n",
       "\n",
       "#sk-container-id-23 div.sk-estimator.fitted {\n",
       "  /* fitted */\n",
       "  background-color: var(--sklearn-color-fitted-level-0);\n",
       "}\n",
       "\n",
       "/* on hover */\n",
       "#sk-container-id-23 div.sk-estimator:hover {\n",
       "  /* unfitted */\n",
       "  background-color: var(--sklearn-color-unfitted-level-2);\n",
       "}\n",
       "\n",
       "#sk-container-id-23 div.sk-estimator.fitted:hover {\n",
       "  /* fitted */\n",
       "  background-color: var(--sklearn-color-fitted-level-2);\n",
       "}\n",
       "\n",
       "/* Specification for estimator info (e.g. \"i\" and \"?\") */\n",
       "\n",
       "/* Common style for \"i\" and \"?\" */\n",
       "\n",
       ".sk-estimator-doc-link,\n",
       "a:link.sk-estimator-doc-link,\n",
       "a:visited.sk-estimator-doc-link {\n",
       "  float: right;\n",
       "  font-size: smaller;\n",
       "  line-height: 1em;\n",
       "  font-family: monospace;\n",
       "  background-color: var(--sklearn-color-background);\n",
       "  border-radius: 1em;\n",
       "  height: 1em;\n",
       "  width: 1em;\n",
       "  text-decoration: none !important;\n",
       "  margin-left: 0.5em;\n",
       "  text-align: center;\n",
       "  /* unfitted */\n",
       "  border: var(--sklearn-color-unfitted-level-1) 1pt solid;\n",
       "  color: var(--sklearn-color-unfitted-level-1);\n",
       "}\n",
       "\n",
       ".sk-estimator-doc-link.fitted,\n",
       "a:link.sk-estimator-doc-link.fitted,\n",
       "a:visited.sk-estimator-doc-link.fitted {\n",
       "  /* fitted */\n",
       "  border: var(--sklearn-color-fitted-level-1) 1pt solid;\n",
       "  color: var(--sklearn-color-fitted-level-1);\n",
       "}\n",
       "\n",
       "/* On hover */\n",
       "div.sk-estimator:hover .sk-estimator-doc-link:hover,\n",
       ".sk-estimator-doc-link:hover,\n",
       "div.sk-label-container:hover .sk-estimator-doc-link:hover,\n",
       ".sk-estimator-doc-link:hover {\n",
       "  /* unfitted */\n",
       "  background-color: var(--sklearn-color-unfitted-level-3);\n",
       "  color: var(--sklearn-color-background);\n",
       "  text-decoration: none;\n",
       "}\n",
       "\n",
       "div.sk-estimator.fitted:hover .sk-estimator-doc-link.fitted:hover,\n",
       ".sk-estimator-doc-link.fitted:hover,\n",
       "div.sk-label-container:hover .sk-estimator-doc-link.fitted:hover,\n",
       ".sk-estimator-doc-link.fitted:hover {\n",
       "  /* fitted */\n",
       "  background-color: var(--sklearn-color-fitted-level-3);\n",
       "  color: var(--sklearn-color-background);\n",
       "  text-decoration: none;\n",
       "}\n",
       "\n",
       "/* Span, style for the box shown on hovering the info icon */\n",
       ".sk-estimator-doc-link span {\n",
       "  display: none;\n",
       "  z-index: 9999;\n",
       "  position: relative;\n",
       "  font-weight: normal;\n",
       "  right: .2ex;\n",
       "  padding: .5ex;\n",
       "  margin: .5ex;\n",
       "  width: min-content;\n",
       "  min-width: 20ex;\n",
       "  max-width: 50ex;\n",
       "  color: var(--sklearn-color-text);\n",
       "  box-shadow: 2pt 2pt 4pt #999;\n",
       "  /* unfitted */\n",
       "  background: var(--sklearn-color-unfitted-level-0);\n",
       "  border: .5pt solid var(--sklearn-color-unfitted-level-3);\n",
       "}\n",
       "\n",
       ".sk-estimator-doc-link.fitted span {\n",
       "  /* fitted */\n",
       "  background: var(--sklearn-color-fitted-level-0);\n",
       "  border: var(--sklearn-color-fitted-level-3);\n",
       "}\n",
       "\n",
       ".sk-estimator-doc-link:hover span {\n",
       "  display: block;\n",
       "}\n",
       "\n",
       "/* \"?\"-specific style due to the `<a>` HTML tag */\n",
       "\n",
       "#sk-container-id-23 a.estimator_doc_link {\n",
       "  float: right;\n",
       "  font-size: 1rem;\n",
       "  line-height: 1em;\n",
       "  font-family: monospace;\n",
       "  background-color: var(--sklearn-color-background);\n",
       "  border-radius: 1rem;\n",
       "  height: 1rem;\n",
       "  width: 1rem;\n",
       "  text-decoration: none;\n",
       "  /* unfitted */\n",
       "  color: var(--sklearn-color-unfitted-level-1);\n",
       "  border: var(--sklearn-color-unfitted-level-1) 1pt solid;\n",
       "}\n",
       "\n",
       "#sk-container-id-23 a.estimator_doc_link.fitted {\n",
       "  /* fitted */\n",
       "  border: var(--sklearn-color-fitted-level-1) 1pt solid;\n",
       "  color: var(--sklearn-color-fitted-level-1);\n",
       "}\n",
       "\n",
       "/* On hover */\n",
       "#sk-container-id-23 a.estimator_doc_link:hover {\n",
       "  /* unfitted */\n",
       "  background-color: var(--sklearn-color-unfitted-level-3);\n",
       "  color: var(--sklearn-color-background);\n",
       "  text-decoration: none;\n",
       "}\n",
       "\n",
       "#sk-container-id-23 a.estimator_doc_link.fitted:hover {\n",
       "  /* fitted */\n",
       "  background-color: var(--sklearn-color-fitted-level-3);\n",
       "}\n",
       "</style><div id=\"sk-container-id-23\" class=\"sk-top-container\"><div class=\"sk-text-repr-fallback\"><pre>MultinomialNB()</pre><b>In a Jupyter environment, please rerun this cell to show the HTML representation or trust the notebook. <br />On GitHub, the HTML representation is unable to render, please try loading this page with nbviewer.org.</b></div><div class=\"sk-container\" hidden><div class=\"sk-item\"><div class=\"sk-estimator fitted sk-toggleable\"><input class=\"sk-toggleable__control sk-hidden--visually\" id=\"sk-estimator-id-23\" type=\"checkbox\" checked><label for=\"sk-estimator-id-23\" class=\"sk-toggleable__label fitted sk-toggleable__label-arrow\"><div><div>MultinomialNB</div></div><div><a class=\"sk-estimator-doc-link fitted\" rel=\"noreferrer\" target=\"_blank\" href=\"https://scikit-learn.org/1.6/modules/generated/sklearn.naive_bayes.MultinomialNB.html\">?<span>Documentation for MultinomialNB</span></a><span class=\"sk-estimator-doc-link fitted\">i<span>Fitted</span></span></div></label><div class=\"sk-toggleable__content fitted\"><pre>MultinomialNB()</pre></div> </div></div></div></div>"
      ],
      "text/plain": [
       "MultinomialNB()"
      ]
     },
     "execution_count": 330,
     "metadata": {},
     "output_type": "execute_result"
    }
   ],
   "source": [
    "X_train, X_test, y_train, y_test = train_test_split(texto_features, labels,test_size=0.2, random_state=0)\n",
    "\n",
    "# print('X_train:', X_train)\n",
    "nb = MultinomialNB()\n",
    "\n",
    "nb.fit(X_train, y_train)"
   ]
  },
  {
   "cell_type": "code",
   "execution_count": 331,
   "metadata": {},
   "outputs": [],
   "source": [
    "predictions = nb.predict(X_test)"
   ]
  },
  {
   "cell_type": "code",
   "execution_count": 332,
   "metadata": {},
   "outputs": [
    {
     "name": "stdout",
     "output_type": "stream",
     "text": [
      "0.9722222222222222\n"
     ]
    }
   ],
   "source": [
    "print(accuracy_score(y_test, predictions))"
   ]
  },
  {
   "cell_type": "code",
   "execution_count": 333,
   "metadata": {},
   "outputs": [
    {
     "data": {
      "text/html": [
       "<div>\n",
       "<style scoped>\n",
       "    .dataframe tbody tr th:only-of-type {\n",
       "        vertical-align: middle;\n",
       "    }\n",
       "\n",
       "    .dataframe tbody tr th {\n",
       "        vertical-align: top;\n",
       "    }\n",
       "\n",
       "    .dataframe thead th {\n",
       "        text-align: right;\n",
       "    }\n",
       "</style>\n",
       "<table border=\"1\" class=\"dataframe\">\n",
       "  <thead>\n",
       "    <tr style=\"text-align: right;\">\n",
       "      <th></th>\n",
       "      <th>texto</th>\n",
       "      <th>clase</th>\n",
       "    </tr>\n",
       "  </thead>\n",
       "  <tbody>\n",
       "    <tr>\n",
       "      <th>0</th>\n",
       "      <td>Las concursantes del Miss Universo 2018 han co...</td>\n",
       "      <td>fake</td>\n",
       "    </tr>\n",
       "    <tr>\n",
       "      <th>1</th>\n",
       "      <td>Luego de mantener un perfil bajo por el éxito ...</td>\n",
       "      <td>fake</td>\n",
       "    </tr>\n",
       "    <tr>\n",
       "      <th>2</th>\n",
       "      <td>Gran sorpresa se llevó la hija de Donald Trump...</td>\n",
       "      <td>fake</td>\n",
       "    </tr>\n",
       "    <tr>\n",
       "      <th>3</th>\n",
       "      <td>Aunque muchos los odien y los critiquen porque...</td>\n",
       "      <td>fake</td>\n",
       "    </tr>\n",
       "    <tr>\n",
       "      <th>4</th>\n",
       "      <td>Nacional , Salud y bienestar. Polémica por cer...</td>\n",
       "      <td>fake</td>\n",
       "    </tr>\n",
       "  </tbody>\n",
       "</table>\n",
       "</div>"
      ],
      "text/plain": [
       "                                               texto clase\n",
       "0  Las concursantes del Miss Universo 2018 han co...  fake\n",
       "1  Luego de mantener un perfil bajo por el éxito ...  fake\n",
       "2  Gran sorpresa se llevó la hija de Donald Trump...  fake\n",
       "3  Aunque muchos los odien y los critiquen porque...  fake\n",
       "4  Nacional , Salud y bienestar. Polémica por cer...  fake"
      ]
     },
     "execution_count": 333,
     "metadata": {},
     "output_type": "execute_result"
    }
   ],
   "source": [
    "# Dataset testing\n",
    "df_test = pd.read_csv('testSpanishFakeNews.csv')\n",
    "df_test.head()"
   ]
  },
  {
   "cell_type": "code",
   "execution_count": 334,
   "metadata": {},
   "outputs": [
    {
     "name": "stdout",
     "output_type": "stream",
     "text": [
      "0.9333333333333333\n",
      "              precision    recall  f1-score   support\n",
      "\n",
      "        fake       0.92      0.92      0.92        26\n",
      "        real       0.94      0.94      0.94        34\n",
      "\n",
      "    accuracy                           0.93        60\n",
      "   macro avg       0.93      0.93      0.93        60\n",
      "weighted avg       0.93      0.93      0.93        60\n",
      "\n"
     ]
    },
    {
     "data": {
      "image/png": "[encoded data removed]",
      "text/plain": [
       "<Figure size 640x480 with 2 Axes>"
      ]
     },
     "metadata": {},
     "output_type": "display_data"
    }
   ],
   "source": [
    "def process_nlp(text):\n",
    "    processed = processing_text(text)\n",
    "    features = vectorizer.transform([processed]).toarray()\n",
    "    return nb.predict(features)[0]\n",
    "\n",
    "df_test['prediccion'] = df_test['texto'].apply(process_nlp)\n",
    "df_test.tail()\n",
    "\n",
    "print(accuracy_score(df_test['prediccion'], df_test['clase']))\n",
    "print(classification_report(df_test['clase'], df_test['prediccion']))\n",
    "\n",
    "sns.heatmap(pd.crosstab(df_test['clase'], df_test['prediccion'], rownames=['Actual'], colnames=['Predicted']), annot=True, fmt='d', cmap='Blues')\n",
    "plt.title('Matriz de Confusión')\n",
    "plt.show()"
   ]
  }
 ],
 "metadata": {
  "kernelspec": {
   "display_name": "Python 3",
   "language": "python",
   "name": "python3"
  },
  "language_info": {
   "codemirror_mode": {
    "name": "ipython",
    "version": 3
   },
   "file_extension": ".py",
   "mimetype": "text/x-python",
   "name": "python",
   "nbconvert_exporter": "python",
   "pygments_lexer": "ipython3",
   "version": "3.12.8"
  }
 },
 "nbformat": 4,
 "nbformat_minor": 2
}
