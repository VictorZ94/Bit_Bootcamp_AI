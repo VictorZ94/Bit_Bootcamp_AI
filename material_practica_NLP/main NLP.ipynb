{
 "cells": [
  {
   "cell_type": "markdown",
   "metadata": {},
   "source": [
    "# Procesamieto de texto Naive Bayes"
   ]
  },
  {
   "cell_type": "code",
   "execution_count": 1,
   "metadata": {},
   "outputs": [],
   "source": [
    "import pandas as pd \n",
    "from sklearn.feature_extraction.text import CountVectorizer\n",
    "from collections import defaultdict, Counter\n",
    "import re\n"
   ]
  },
  {
   "cell_type": "code",
   "execution_count": 3,
   "metadata": {},
   "outputs": [
    {
     "data": {
      "text/html": [
       "<div>\n",
       "<style scoped>\n",
       "    .dataframe tbody tr th:only-of-type {\n",
       "        vertical-align: middle;\n",
       "    }\n",
       "\n",
       "    .dataframe tbody tr th {\n",
       "        vertical-align: top;\n",
       "    }\n",
       "\n",
       "    .dataframe thead th {\n",
       "        text-align: right;\n",
       "    }\n",
       "</style>\n",
       "<table border=\"1\" class=\"dataframe\">\n",
       "  <thead>\n",
       "    <tr style=\"text-align: right;\">\n",
       "      <th></th>\n",
       "      <th>text</th>\n",
       "      <th>category</th>\n",
       "    </tr>\n",
       "  </thead>\n",
       "  <tbody>\n",
       "    <tr>\n",
       "      <th>0</th>\n",
       "      <td>El partido de fútbol fue emocionante</td>\n",
       "      <td>Deportes</td>\n",
       "    </tr>\n",
       "    <tr>\n",
       "      <th>1</th>\n",
       "      <td>La nueva actualización del software es increíble</td>\n",
       "      <td>Tecnología</td>\n",
       "    </tr>\n",
       "    <tr>\n",
       "      <th>2</th>\n",
       "      <td>El equipo ganó el campeonato</td>\n",
       "      <td>Deportes</td>\n",
       "    </tr>\n",
       "    <tr>\n",
       "      <th>3</th>\n",
       "      <td>El nuevo teléfono tiene una cámara impresionante</td>\n",
       "      <td>Tecnología</td>\n",
       "    </tr>\n",
       "    <tr>\n",
       "      <th>4</th>\n",
       "      <td>El jugador anotó un gol espectacular</td>\n",
       "      <td>Deportes</td>\n",
       "    </tr>\n",
       "    <tr>\n",
       "      <th>5</th>\n",
       "      <td>La inteligencia artificial está avanzando rápi...</td>\n",
       "      <td>Tecnología</td>\n",
       "    </tr>\n",
       "  </tbody>\n",
       "</table>\n",
       "</div>"
      ],
      "text/plain": [
       "                                                text    category\n",
       "0               El partido de fútbol fue emocionante    Deportes\n",
       "1   La nueva actualización del software es increíble  Tecnología\n",
       "2                       El equipo ganó el campeonato    Deportes\n",
       "3   El nuevo teléfono tiene una cámara impresionante  Tecnología\n",
       "4               El jugador anotó un gol espectacular    Deportes\n",
       "5  La inteligencia artificial está avanzando rápi...  Tecnología"
      ]
     },
     "execution_count": 3,
     "metadata": {},
     "output_type": "execute_result"
    }
   ],
   "source": [
    "data = {\n",
    "    'text': [\n",
    "        'El partido de fútbol fue emocionante',\n",
    "        'La nueva actualización del software es increíble',\n",
    "        'El equipo ganó el campeonato',\n",
    "        'El nuevo teléfono tiene una cámara impresionante',\n",
    "        'El jugador anotó un gol espectacular',\n",
    "        'La inteligencia artificial está avanzando rápidamente'\n",
    "    ],\n",
    "    'category': [\n",
    "        'Deportes', 'Tecnología', 'Deportes', 'Tecnología', 'Deportes', 'Tecnología'\n",
    "    ]\n",
    "}\n",
    "\n",
    "# Convertir a DataFrame\n",
    "df = pd.DataFrame(data)\n",
    "df"
   ]
  },
  {
   "cell_type": "code",
   "execution_count": 4,
   "metadata": {},
   "outputs": [
    {
     "data": {
      "text/plain": [
       "category\n",
       "Deportes      0.5\n",
       "Tecnología    0.5\n",
       "dtype: float64"
      ]
     },
     "execution_count": 4,
     "metadata": {},
     "output_type": "execute_result"
    }
   ],
   "source": [
    "# Probabilidades de cada clase\n",
    "\n",
    "categories = df.groupby('category').size() / len(df)\n",
    "categories"
   ]
  },
  {
   "cell_type": "code",
   "execution_count": 5,
   "metadata": {},
   "outputs": [],
   "source": [
    "p_deportes = categories['Deportes']\n",
    "p_tecnologia = categories['Tecnología']"
   ]
  },
  {
   "cell_type": "code",
   "execution_count": 6,
   "metadata": {},
   "outputs": [
    {
     "name": "stdout",
     "output_type": "stream",
     "text": [
      "Vocabulario:\n",
      "['actualización' 'anotó' 'artificial' 'avanzando' 'campeonato' 'cámara'\n",
      " 'de' 'del' 'el' 'emocionante' 'equipo' 'es' 'espectacular' 'está' 'fue'\n",
      " 'fútbol' 'ganó' 'gol' 'impresionante' 'increíble' 'inteligencia'\n",
      " 'jugador' 'la' 'nueva' 'nuevo' 'partido' 'rápidamente' 'software'\n",
      " 'teléfono' 'tiene' 'un' 'una']\n",
      "32\n"
     ]
    }
   ],
   "source": [
    "vectorizer = CountVectorizer()\n",
    "\n",
    "# Ajustar y transformar el texto\n",
    "X = vectorizer.fit_transform(df['text'])\n",
    "\n",
    "# Obtener el vocabulario\n",
    "vocabulario = vectorizer.get_feature_names_out()\n",
    "\n",
    "print(\"Vocabulario:\")\n",
    "print(vocabulario)\n",
    "print(len(vocabulario))\n",
    "\n",
    "vocabulario_size = len(vocabulario)"
   ]
  },
  {
   "cell_type": "code",
   "execution_count": 7,
   "metadata": {},
   "outputs": [],
   "source": [
    "def tokenizar(texto):\n",
    "    texto = re.sub(r'[^\\w\\s]', '', texto.lower())  # Eliminar puntuación y convertir a minúsculas\n",
    "    return texto.split()"
   ]
  },
  {
   "cell_type": "code",
   "execution_count": 8,
   "metadata": {},
   "outputs": [
    {
     "data": {
      "text/plain": [
       "['el', 'partido', 'de', 'fútbol', 'fue', 'emocionante']"
      ]
     },
     "execution_count": 8,
     "metadata": {},
     "output_type": "execute_result"
    }
   ],
   "source": [
    "tokenizar(df.iloc[0]['text'])"
   ]
  },
  {
   "cell_type": "code",
   "execution_count": 9,
   "metadata": {},
   "outputs": [
    {
     "data": {
      "text/plain": [
       "defaultdict(collections.Counter, {})"
      ]
     },
     "execution_count": 9,
     "metadata": {},
     "output_type": "execute_result"
    }
   ],
   "source": [
    "palabras_por_categoria = defaultdict(Counter)\n",
    "palabras_por_categoria"
   ]
  },
  {
   "cell_type": "code",
   "execution_count": 10,
   "metadata": {},
   "outputs": [
    {
     "data": {
      "text/plain": [
       "defaultdict(collections.Counter,\n",
       "            {'Deportes': Counter({'el': 4,\n",
       "                      'partido': 1,\n",
       "                      'de': 1,\n",
       "                      'fútbol': 1,\n",
       "                      'fue': 1,\n",
       "                      'emocionante': 1,\n",
       "                      'equipo': 1,\n",
       "                      'ganó': 1,\n",
       "                      'campeonato': 1,\n",
       "                      'jugador': 1,\n",
       "                      'anotó': 1,\n",
       "                      'un': 1,\n",
       "                      'gol': 1,\n",
       "                      'espectacular': 1}),\n",
       "             'Tecnología': Counter({'la': 2,\n",
       "                      'nueva': 1,\n",
       "                      'actualización': 1,\n",
       "                      'del': 1,\n",
       "                      'software': 1,\n",
       "                      'es': 1,\n",
       "                      'increíble': 1,\n",
       "                      'el': 1,\n",
       "                      'nuevo': 1,\n",
       "                      'teléfono': 1,\n",
       "                      'tiene': 1,\n",
       "                      'una': 1,\n",
       "                      'cámara': 1,\n",
       "                      'impresionante': 1,\n",
       "                      'inteligencia': 1,\n",
       "                      'artificial': 1,\n",
       "                      'está': 1,\n",
       "                      'avanzando': 1,\n",
       "                      'rápidamente': 1})})"
      ]
     },
     "execution_count": 10,
     "metadata": {},
     "output_type": "execute_result"
    }
   ],
   "source": [
    "# Diccionario para almacenar contadores por categoría\n",
    "palabras_por_categoria = defaultdict(Counter)\n",
    "\n",
    "for _, row in df.iterrows():\n",
    "    categoria = row['category']\n",
    "    palabras = tokenizar(row['text'])\n",
    "    palabras_por_categoria[categoria].update(palabras)\n",
    "palabras_por_categoria"
   ]
  },
  {
   "cell_type": "code",
   "execution_count": 11,
   "metadata": {},
   "outputs": [
    {
     "name": "stdout",
     "output_type": "stream",
     "text": [
      "Categoría: Deportes\n",
      "Counter({'el': 4, 'partido': 1, 'de': 1, 'fútbol': 1, 'fue': 1, 'emocionante': 1, 'equipo': 1, 'ganó': 1, 'campeonato': 1, 'jugador': 1, 'anotó': 1, 'un': 1, 'gol': 1, 'espectacular': 1})\n",
      "Categoría: Tecnología\n",
      "Counter({'la': 2, 'nueva': 1, 'actualización': 1, 'del': 1, 'software': 1, 'es': 1, 'increíble': 1, 'el': 1, 'nuevo': 1, 'teléfono': 1, 'tiene': 1, 'una': 1, 'cámara': 1, 'impresionante': 1, 'inteligencia': 1, 'artificial': 1, 'está': 1, 'avanzando': 1, 'rápidamente': 1})\n"
     ]
    }
   ],
   "source": [
    "for categoria, contador in palabras_por_categoria.items():\n",
    "    print(f\"Categoría: {categoria}\")\n",
    "    print(contador)"
   ]
  },
  {
   "cell_type": "code",
   "execution_count": 12,
   "metadata": {},
   "outputs": [
    {
     "name": "stdout",
     "output_type": "stream",
     "text": [
      "\n",
      "Total de palabras por categoría:\n",
      "{'Deportes': 17, 'Tecnología': 20}\n"
     ]
    }
   ],
   "source": [
    "total_palabras_por_categoria = {\n",
    "    categoria: sum(contador.values()) for categoria, contador in palabras_por_categoria.items()\n",
    "}\n",
    "\n",
    "print(\"\\nTotal de palabras por categoría:\")\n",
    "print(total_palabras_por_categoria)"
   ]
  },
  {
   "cell_type": "code",
   "execution_count": 13,
   "metadata": {},
   "outputs": [
    {
     "name": "stdout",
     "output_type": "stream",
     "text": [
      "\n",
      "Proporciones en la categoría 'Deportes':\n",
      "actualización: 0.0204\n",
      "anotó: 0.0408\n",
      "artificial: 0.0204\n",
      "avanzando: 0.0204\n",
      "campeonato: 0.0408\n",
      "cámara: 0.0204\n",
      "de: 0.0408\n",
      "del: 0.0204\n",
      "el: 0.1020\n",
      "emocionante: 0.0408\n",
      "equipo: 0.0408\n",
      "es: 0.0204\n",
      "espectacular: 0.0408\n",
      "está: 0.0204\n",
      "fue: 0.0408\n",
      "fútbol: 0.0408\n",
      "ganó: 0.0408\n",
      "gol: 0.0408\n",
      "impresionante: 0.0204\n",
      "increíble: 0.0204\n",
      "inteligencia: 0.0204\n",
      "jugador: 0.0408\n",
      "la: 0.0204\n",
      "nueva: 0.0204\n",
      "nuevo: 0.0204\n",
      "partido: 0.0408\n",
      "rápidamente: 0.0204\n",
      "software: 0.0204\n",
      "teléfono: 0.0204\n",
      "tiene: 0.0204\n",
      "un: 0.0408\n",
      "una: 0.0204\n",
      "\n",
      "Proporciones en la categoría 'Tecnología':\n",
      "actualización: 0.0385\n",
      "anotó: 0.0192\n",
      "artificial: 0.0385\n",
      "avanzando: 0.0385\n",
      "campeonato: 0.0192\n",
      "cámara: 0.0385\n",
      "de: 0.0192\n",
      "del: 0.0385\n",
      "el: 0.0385\n",
      "emocionante: 0.0192\n",
      "equipo: 0.0192\n",
      "es: 0.0385\n",
      "espectacular: 0.0192\n",
      "está: 0.0385\n",
      "fue: 0.0192\n",
      "fútbol: 0.0192\n",
      "ganó: 0.0192\n",
      "gol: 0.0192\n",
      "impresionante: 0.0385\n",
      "increíble: 0.0385\n",
      "inteligencia: 0.0385\n",
      "jugador: 0.0192\n",
      "la: 0.0577\n",
      "nueva: 0.0385\n",
      "nuevo: 0.0385\n",
      "partido: 0.0192\n",
      "rápidamente: 0.0385\n",
      "software: 0.0385\n",
      "teléfono: 0.0385\n",
      "tiene: 0.0385\n",
      "un: 0.0192\n",
      "una: 0.0385\n"
     ]
    }
   ],
   "source": [
    "# Diccionario para almacenar proporciones\n",
    "proporciones_por_categoria = defaultdict(dict)\n",
    "\n",
    "for categoria, contador in palabras_por_categoria.items():\n",
    "    total_palabras = total_palabras_por_categoria[categoria]\n",
    "    for palabra in vocabulario:\n",
    "        frecuencia = contador.get(palabra, 0)\n",
    "        proporciones_por_categoria[categoria][palabra] = (frecuencia + 1) / (total_palabras + vocabulario_size)\n",
    "        \n",
    "# Mostrar las proporciones\n",
    "for categoria, proporciones in proporciones_por_categoria.items():\n",
    "    print(f\"\\nProporciones en la categoría '{categoria}':\")\n",
    "    for palabra, proporcion in proporciones.items():\n",
    "        print(f\"{palabra}: {proporcion:.4f}\")"
   ]
  },
  {
   "cell_type": "code",
   "execution_count": 22,
   "metadata": {},
   "outputs": [
    {
     "data": {
      "text/plain": [
       "['la', 'inteligencia', 'artificial', 'es', 'increíble']"
      ]
     },
     "execution_count": 22,
     "metadata": {},
     "output_type": "execute_result"
    }
   ],
   "source": [
    "# nuevo_test = 'El equipo de fútbol ganó'\n",
    "nuevo_test = 'la inteligencia artificial es increíble'\n",
    "\n",
    "# Tokenizar el texto\n",
    "\n",
    "texto_tokenizado = tokenizar(nuevo_test)\n",
    "texto_tokenizado"
   ]
  },
  {
   "cell_type": "code",
   "execution_count": 23,
   "metadata": {},
   "outputs": [
    {
     "name": "stdout",
     "output_type": "stream",
     "text": [
      "probabilidad de que sea deportes: 1.7700665873207169e-09\n"
     ]
    }
   ],
   "source": [
    "#Evaluar clase Deportes\n",
    "\n",
    "producto = 1\n",
    "for token in texto_tokenizado: \n",
    "    if token in proporciones_por_categoria['Deportes']:\n",
    "        producto *= proporciones_por_categoria['Deportes'][token]\n",
    "\n",
    "\n",
    "probabilidad_deportes = producto*p_deportes\n",
    "\n",
    "print('probabilidad de que sea deportes:', probabilidad_deportes)"
   ]
  },
  {
   "cell_type": "code",
   "execution_count": 24,
   "metadata": {},
   "outputs": [
    {
     "name": "stdout",
     "output_type": "stream",
     "text": [
      "la probabilidad de que sea tecnología: 6.312400179911822e-08\n"
     ]
    }
   ],
   "source": [
    "#Evaluar clase Tecnología\n",
    "\n",
    "producto = 1\n",
    "for token in texto_tokenizado: \n",
    "    if token in proporciones_por_categoria['Tecnología']:\n",
    "        producto *= proporciones_por_categoria['Tecnología'][token]\n",
    "\n",
    "probabilidad_tecnologia = producto*p_tecnologia\n",
    "print('la probabilidad de que sea tecnología:', probabilidad_tecnologia)"
   ]
  },
  {
   "cell_type": "code",
   "execution_count": 18,
   "metadata": {},
   "outputs": [
    {
     "name": "stdout",
     "output_type": "stream",
     "text": [
      "El texto 'El equipo de fútbol ganó' habla sobre deportes\n"
     ]
    }
   ],
   "source": [
    "if probabilidad_deportes > probabilidad_tecnologia:\n",
    "    print(f\"El texto '{nuevo_test}' habla sobre deportes\")\n",
    "else: \n",
    "    print(f\"El texto '{nuevo_test}'' habla sobre tencología\")"
   ]
  },
  {
   "cell_type": "markdown",
   "metadata": {},
   "source": [
    "# Ejercicio \n",
    "\n",
    "\n",
    "Realizar preprocesamiento (Eliminar palabras de parada, caracteres especiales, tildes y lematizar). Realizar un clasificador con la informacion de arriba y evaluar  en el conjunto de datos de prueba (El conjunto de datos debe pasar por el procesamiento para luego evaluar el modelo). Adicionalmente revisar cual es la exactitud del modelo (respuesta_correctas/totales)"
   ]
  },
  {
   "cell_type": "code",
   "execution_count": 81,
   "metadata": {},
   "outputs": [
    {
     "data": {
      "text/html": [
       "<div>\n",
       "<style scoped>\n",
       "    .dataframe tbody tr th:only-of-type {\n",
       "        vertical-align: middle;\n",
       "    }\n",
       "\n",
       "    .dataframe tbody tr th {\n",
       "        vertical-align: top;\n",
       "    }\n",
       "\n",
       "    .dataframe thead th {\n",
       "        text-align: right;\n",
       "    }\n",
       "</style>\n",
       "<table border=\"1\" class=\"dataframe\">\n",
       "  <thead>\n",
       "    <tr style=\"text-align: right;\">\n",
       "      <th></th>\n",
       "      <th>text</th>\n",
       "      <th>category</th>\n",
       "    </tr>\n",
       "  </thead>\n",
       "  <tbody>\n",
       "    <tr>\n",
       "      <th>0</th>\n",
       "      <td>La receta de pasta es fácil de preparar</td>\n",
       "      <td>Cocina</td>\n",
       "    </tr>\n",
       "    <tr>\n",
       "      <th>1</th>\n",
       "      <td>El vuelo a París fue muy cómodo</td>\n",
       "      <td>Viajes</td>\n",
       "    </tr>\n",
       "    <tr>\n",
       "      <th>2</th>\n",
       "      <td>Necesitamos más ingredientes para la salsa</td>\n",
       "      <td>Cocina</td>\n",
       "    </tr>\n",
       "    <tr>\n",
       "      <th>3</th>\n",
       "      <td>Las maletas están listas para el viaje</td>\n",
       "      <td>Viajes</td>\n",
       "    </tr>\n",
       "    <tr>\n",
       "      <th>4</th>\n",
       "      <td>El chef recomienda marinar la carne por una hora</td>\n",
       "      <td>Cocina</td>\n",
       "    </tr>\n",
       "    <tr>\n",
       "      <th>5</th>\n",
       "      <td>El hotel tiene una vista increíble al mar</td>\n",
       "      <td>Viajes</td>\n",
       "    </tr>\n",
       "    <tr>\n",
       "      <th>6</th>\n",
       "      <td>La tarta de manzana es mi postre favorito</td>\n",
       "      <td>Cocina</td>\n",
       "    </tr>\n",
       "    <tr>\n",
       "      <th>7</th>\n",
       "      <td>El tren saldrá a las 8 de la mañana</td>\n",
       "      <td>Viajes</td>\n",
       "    </tr>\n",
       "    <tr>\n",
       "      <th>8</th>\n",
       "      <td>El restaurante ofrece platos tradicionales</td>\n",
       "      <td>Cocina</td>\n",
       "    </tr>\n",
       "    <tr>\n",
       "      <th>9</th>\n",
       "      <td>El pasaporte está en la mesa</td>\n",
       "      <td>Viajes</td>\n",
       "    </tr>\n",
       "  </tbody>\n",
       "</table>\n",
       "</div>"
      ],
      "text/plain": [
       "                                               text category\n",
       "0           La receta de pasta es fácil de preparar   Cocina\n",
       "1                   El vuelo a París fue muy cómodo   Viajes\n",
       "2        Necesitamos más ingredientes para la salsa   Cocina\n",
       "3            Las maletas están listas para el viaje   Viajes\n",
       "4  El chef recomienda marinar la carne por una hora   Cocina\n",
       "5         El hotel tiene una vista increíble al mar   Viajes\n",
       "6         La tarta de manzana es mi postre favorito   Cocina\n",
       "7               El tren saldrá a las 8 de la mañana   Viajes\n",
       "8        El restaurante ofrece platos tradicionales   Cocina\n",
       "9                      El pasaporte está en la mesa   Viajes"
      ]
     },
     "execution_count": 81,
     "metadata": {},
     "output_type": "execute_result"
    }
   ],
   "source": [
    "data = {\n",
    "    'text': [\n",
    "        'La receta de pasta es fácil de preparar',\n",
    "        'El vuelo a París fue muy cómodo',\n",
    "        'Necesitamos más ingredientes para la salsa',\n",
    "        'Las maletas están listas para el viaje',\n",
    "        'El chef recomienda marinar la carne por una hora',\n",
    "        'El hotel tiene una vista increíble al mar',\n",
    "        'La tarta de manzana es mi postre favorito',\n",
    "        'El tren saldrá a las 8 de la mañana',\n",
    "        'El restaurante ofrece platos tradicionales',\n",
    "        'El pasaporte está en la mesa'\n",
    "    ],\n",
    "    'category': [\n",
    "        'Cocina', 'Viajes', 'Cocina', 'Viajes', 'Cocina', \n",
    "        'Viajes', 'Cocina', 'Viajes', 'Cocina', 'Viajes'\n",
    "    ]\n",
    "}\n",
    "\n",
    "# Convertir a DataFrame\n",
    "df = pd.DataFrame(data)\n",
    "\n",
    "df"
   ]
  },
  {
   "cell_type": "code",
   "execution_count": 93,
   "metadata": {},
   "outputs": [
    {
     "data": {
      "text/html": [
       "<div>\n",
       "<style scoped>\n",
       "    .dataframe tbody tr th:only-of-type {\n",
       "        vertical-align: middle;\n",
       "    }\n",
       "\n",
       "    .dataframe tbody tr th {\n",
       "        vertical-align: top;\n",
       "    }\n",
       "\n",
       "    .dataframe thead th {\n",
       "        text-align: right;\n",
       "    }\n",
       "</style>\n",
       "<table border=\"1\" class=\"dataframe\">\n",
       "  <thead>\n",
       "    <tr style=\"text-align: right;\">\n",
       "      <th></th>\n",
       "      <th>text</th>\n",
       "      <th>category</th>\n",
       "    </tr>\n",
       "  </thead>\n",
       "  <tbody>\n",
       "    <tr>\n",
       "      <th>0</th>\n",
       "      <td>El chef recomienda preparar la salsa con más i...</td>\n",
       "      <td>Cocina</td>\n",
       "    </tr>\n",
       "    <tr>\n",
       "      <th>1</th>\n",
       "      <td>La mesa está lista para el postre de manzana.</td>\n",
       "      <td>Cocina</td>\n",
       "    </tr>\n",
       "    <tr>\n",
       "      <th>2</th>\n",
       "      <td>Necesitamos una receta fácil para la carne.</td>\n",
       "      <td>Cocina</td>\n",
       "    </tr>\n",
       "    <tr>\n",
       "      <th>3</th>\n",
       "      <td>El restaurante tiene platos tradicionales de p...</td>\n",
       "      <td>Cocina</td>\n",
       "    </tr>\n",
       "    <tr>\n",
       "      <th>4</th>\n",
       "      <td>La tarta de manzana es muy fácil de preparar.</td>\n",
       "      <td>Cocina</td>\n",
       "    </tr>\n",
       "    <tr>\n",
       "      <th>5</th>\n",
       "      <td>El vuelo a París fue increíble.</td>\n",
       "      <td>Viajes</td>\n",
       "    </tr>\n",
       "    <tr>\n",
       "      <th>6</th>\n",
       "      <td>Las maletas están listas en el hotel.</td>\n",
       "      <td>Viajes</td>\n",
       "    </tr>\n",
       "    <tr>\n",
       "      <th>7</th>\n",
       "      <td>El tren saldrá por la mañana para el viaje.</td>\n",
       "      <td>Viajes</td>\n",
       "    </tr>\n",
       "    <tr>\n",
       "      <th>8</th>\n",
       "      <td>El hotel ofrece una vista increíble del mar.</td>\n",
       "      <td>Viajes</td>\n",
       "    </tr>\n",
       "    <tr>\n",
       "      <th>9</th>\n",
       "      <td>Necesitamos el pasaporte en la mesa para el vu...</td>\n",
       "      <td>Viajes</td>\n",
       "    </tr>\n",
       "  </tbody>\n",
       "</table>\n",
       "</div>"
      ],
      "text/plain": [
       "                                                text category\n",
       "0  El chef recomienda preparar la salsa con más i...   Cocina\n",
       "1      La mesa está lista para el postre de manzana.   Cocina\n",
       "2        Necesitamos una receta fácil para la carne.   Cocina\n",
       "3  El restaurante tiene platos tradicionales de p...   Cocina\n",
       "4      La tarta de manzana es muy fácil de preparar.   Cocina\n",
       "5                    El vuelo a París fue increíble.   Viajes\n",
       "6              Las maletas están listas en el hotel.   Viajes\n",
       "7        El tren saldrá por la mañana para el viaje.   Viajes\n",
       "8       El hotel ofrece una vista increíble del mar.   Viajes\n",
       "9  Necesitamos el pasaporte en la mesa para el vu...   Viajes"
      ]
     },
     "execution_count": 93,
     "metadata": {},
     "output_type": "execute_result"
    }
   ],
   "source": [
    "test_data = {\n",
    "    'text':[\n",
    "    'El chef recomienda preparar la salsa con más ingredientes.',\n",
    "    'La mesa está lista para el postre de manzana.',\n",
    "    'Necesitamos una receta fácil para la carne.',\n",
    "    'El restaurante tiene platos tradicionales de pasta.',\n",
    "    'La tarta de manzana es muy fácil de preparar.', \n",
    "    'El vuelo a París fue increíble.',\n",
    "    'Las maletas están listas en el hotel.',\n",
    "    'El tren saldrá por la mañana para el viaje.',\n",
    "    'El hotel ofrece una vista increíble del mar.',\n",
    "    'Necesitamos el pasaporte en la mesa para el vuelo.'],\n",
    "'category': [\n",
    "        'Cocina', 'Cocina', 'Cocina', 'Cocina', 'Cocina', \n",
    "        'Viajes', 'Viajes', 'Viajes', 'Viajes', 'Viajes'\n",
    "    ]\n",
    "}\n",
    "\n",
    "df = pd.DataFrame(test_data)\n",
    "\n",
    "df"
   ]
  }
 ],
 "metadata": {
  "kernelspec": {
   "display_name": "venv",
   "language": "python",
   "name": "python3"
  },
  "language_info": {
   "codemirror_mode": {
    "name": "ipython",
    "version": 3
   },
   "file_extension": ".py",
   "mimetype": "text/x-python",
   "name": "python",
   "nbconvert_exporter": "python",
   "pygments_lexer": "ipython3",
   "version": "3.12.1"
  }
 },
 "nbformat": 4,
 "nbformat_minor": 2
}
