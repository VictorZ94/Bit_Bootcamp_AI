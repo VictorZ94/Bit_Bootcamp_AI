{
  "cells": [
    {
      "cell_type": "code",
      "execution_count": 1,
      "metadata": {
        "colab": {
          "base_uri": "https://localhost:8080/"
        },
        "id": "MoFSJH0VZv_m",
        "outputId": "c51368af-6824-4f7a-c17f-5e88553bebc2"
      },
      "outputs": [
        {
          "name": "stdout",
          "output_type": "stream",
          "text": [
            "Defaulting to user installation because normal site-packages is not writeable\n",
            "Collecting scikit-learn\n",
            "  Downloading scikit_learn-1.6.1-cp312-cp312-manylinux_2_17_x86_64.manylinux2014_x86_64.whl.metadata (18 kB)\n",
            "Requirement already satisfied: numpy>=1.19.5 in /home/vscode/.local/lib/python3.12/site-packages (from scikit-learn) (2.2.2)\n",
            "Collecting scipy>=1.6.0 (from scikit-learn)\n",
            "  Downloading scipy-1.15.1-cp312-cp312-manylinux_2_17_x86_64.manylinux2014_x86_64.whl.metadata (61 kB)\n",
            "Requirement already satisfied: joblib>=1.2.0 in /home/vscode/.local/lib/python3.12/site-packages (from scikit-learn) (1.4.2)\n",
            "Collecting threadpoolctl>=3.1.0 (from scikit-learn)\n",
            "  Downloading threadpoolctl-3.5.0-py3-none-any.whl.metadata (13 kB)\n",
            "Downloading scikit_learn-1.6.1-cp312-cp312-manylinux_2_17_x86_64.manylinux2014_x86_64.whl (13.1 MB)\n",
            "\u001b[2K   \u001b[90m━━━━━━━━━━━━━━━━━━━━━━━━━━━━━━━━━━━━━━━━\u001b[0m \u001b[32m13.1/13.1 MB\u001b[0m \u001b[31m20.2 MB/s\u001b[0m eta \u001b[36m0:00:00\u001b[0ma \u001b[36m0:00:01\u001b[0m\n",
            "\u001b[?25hDownloading scipy-1.15.1-cp312-cp312-manylinux_2_17_x86_64.manylinux2014_x86_64.whl (40.2 MB)\n",
            "\u001b[2K   \u001b[90m━━━━━━━━━━━━━━━━━━━━━━━━━━━━━━━━━━━━━━━━\u001b[0m \u001b[32m40.2/40.2 MB\u001b[0m \u001b[31m19.6 MB/s\u001b[0m eta \u001b[36m0:00:00\u001b[0m00:01\u001b[0m00:01\u001b[0m\n",
            "\u001b[?25hDownloading threadpoolctl-3.5.0-py3-none-any.whl (18 kB)\n",
            "Installing collected packages: threadpoolctl, scipy, scikit-learn\n",
            "Successfully installed scikit-learn-1.6.1 scipy-1.15.1 threadpoolctl-3.5.0\n",
            "\n",
            "\u001b[1m[\u001b[0m\u001b[34;49mnotice\u001b[0m\u001b[1;39;49m]\u001b[0m\u001b[39;49m A new release of pip is available: \u001b[0m\u001b[31;49m24.3.1\u001b[0m\u001b[39;49m -> \u001b[0m\u001b[32;49m25.0.1\u001b[0m\n",
            "\u001b[1m[\u001b[0m\u001b[34;49mnotice\u001b[0m\u001b[1;39;49m]\u001b[0m\u001b[39;49m To update, run: \u001b[0m\u001b[32;49mpip install --upgrade pip\u001b[0m\n",
            "Note: you may need to restart the kernel to use updated packages.\n",
            "Defaulting to user installation because normal site-packages is not writeable\n",
            "Requirement already satisfied: nltk in /home/vscode/.local/lib/python3.12/site-packages (3.9.1)\n",
            "Requirement already satisfied: click in /home/vscode/.local/lib/python3.12/site-packages (from nltk) (8.1.8)\n",
            "Requirement already satisfied: joblib in /home/vscode/.local/lib/python3.12/site-packages (from nltk) (1.4.2)\n",
            "Requirement already satisfied: regex>=2021.8.3 in /home/vscode/.local/lib/python3.12/site-packages (from nltk) (2024.11.6)\n",
            "Requirement already satisfied: tqdm in /home/vscode/.local/lib/python3.12/site-packages (from nltk) (4.67.1)\n",
            "\n",
            "\u001b[1m[\u001b[0m\u001b[34;49mnotice\u001b[0m\u001b[1;39;49m]\u001b[0m\u001b[39;49m A new release of pip is available: \u001b[0m\u001b[31;49m24.3.1\u001b[0m\u001b[39;49m -> \u001b[0m\u001b[32;49m25.0.1\u001b[0m\n",
            "\u001b[1m[\u001b[0m\u001b[34;49mnotice\u001b[0m\u001b[1;39;49m]\u001b[0m\u001b[39;49m To update, run: \u001b[0m\u001b[32;49mpip install --upgrade pip\u001b[0m\n",
            "Note: you may need to restart the kernel to use updated packages.\n",
            "Defaulting to user installation because normal site-packages is not writeable\n",
            "Requirement already satisfied: pandas in /home/vscode/.local/lib/python3.12/site-packages (2.2.3)\n",
            "Requirement already satisfied: numpy>=1.26.0 in /home/vscode/.local/lib/python3.12/site-packages (from pandas) (2.2.2)\n",
            "Requirement already satisfied: python-dateutil>=2.8.2 in /home/vscode/.local/lib/python3.12/site-packages (from pandas) (2.9.0.post0)\n",
            "Requirement already satisfied: pytz>=2020.1 in /home/vscode/.local/lib/python3.12/site-packages (from pandas) (2024.2)\n",
            "Requirement already satisfied: tzdata>=2022.7 in /home/vscode/.local/lib/python3.12/site-packages (from pandas) (2025.1)\n",
            "Requirement already satisfied: six>=1.5 in /home/vscode/.local/lib/python3.12/site-packages (from python-dateutil>=2.8.2->pandas) (1.17.0)\n",
            "\n",
            "\u001b[1m[\u001b[0m\u001b[34;49mnotice\u001b[0m\u001b[1;39;49m]\u001b[0m\u001b[39;49m A new release of pip is available: \u001b[0m\u001b[31;49m24.3.1\u001b[0m\u001b[39;49m -> \u001b[0m\u001b[32;49m25.0.1\u001b[0m\n",
            "\u001b[1m[\u001b[0m\u001b[34;49mnotice\u001b[0m\u001b[1;39;49m]\u001b[0m\u001b[39;49m To update, run: \u001b[0m\u001b[32;49mpip install --upgrade pip\u001b[0m\n",
            "Note: you may need to restart the kernel to use updated packages.\n",
            "Defaulting to user installation because normal site-packages is not writeable\n",
            "Requirement already satisfied: numpy in /home/vscode/.local/lib/python3.12/site-packages (2.2.2)\n",
            "\n",
            "\u001b[1m[\u001b[0m\u001b[34;49mnotice\u001b[0m\u001b[1;39;49m]\u001b[0m\u001b[39;49m A new release of pip is available: \u001b[0m\u001b[31;49m24.3.1\u001b[0m\u001b[39;49m -> \u001b[0m\u001b[32;49m25.0.1\u001b[0m\n",
            "\u001b[1m[\u001b[0m\u001b[34;49mnotice\u001b[0m\u001b[1;39;49m]\u001b[0m\u001b[39;49m To update, run: \u001b[0m\u001b[32;49mpip install --upgrade pip\u001b[0m\n",
            "Note: you may need to restart the kernel to use updated packages.\n",
            "Defaulting to user installation because normal site-packages is not writeable\n",
            "Requirement already satisfied: matplotlib in /home/vscode/.local/lib/python3.12/site-packages (3.10.0)\n",
            "Requirement already satisfied: contourpy>=1.0.1 in /home/vscode/.local/lib/python3.12/site-packages (from matplotlib) (1.3.1)\n",
            "Requirement already satisfied: cycler>=0.10 in /home/vscode/.local/lib/python3.12/site-packages (from matplotlib) (0.12.1)\n",
            "Requirement already satisfied: fonttools>=4.22.0 in /home/vscode/.local/lib/python3.12/site-packages (from matplotlib) (4.55.4)\n",
            "Requirement already satisfied: kiwisolver>=1.3.1 in /home/vscode/.local/lib/python3.12/site-packages (from matplotlib) (1.4.8)\n",
            "Requirement already satisfied: numpy>=1.23 in /home/vscode/.local/lib/python3.12/site-packages (from matplotlib) (2.2.2)\n",
            "Requirement already satisfied: packaging>=20.0 in /home/vscode/.local/lib/python3.12/site-packages (from matplotlib) (24.2)\n",
            "Requirement already satisfied: pillow>=8 in /home/vscode/.local/lib/python3.12/site-packages (from matplotlib) (11.1.0)\n",
            "Requirement already satisfied: pyparsing>=2.3.1 in /home/vscode/.local/lib/python3.12/site-packages (from matplotlib) (3.2.1)\n",
            "Requirement already satisfied: python-dateutil>=2.7 in /home/vscode/.local/lib/python3.12/site-packages (from matplotlib) (2.9.0.post0)\n",
            "Requirement already satisfied: six>=1.5 in /home/vscode/.local/lib/python3.12/site-packages (from python-dateutil>=2.7->matplotlib) (1.17.0)\n",
            "\n",
            "\u001b[1m[\u001b[0m\u001b[34;49mnotice\u001b[0m\u001b[1;39;49m]\u001b[0m\u001b[39;49m A new release of pip is available: \u001b[0m\u001b[31;49m24.3.1\u001b[0m\u001b[39;49m -> \u001b[0m\u001b[32;49m25.0.1\u001b[0m\n",
            "\u001b[1m[\u001b[0m\u001b[34;49mnotice\u001b[0m\u001b[1;39;49m]\u001b[0m\u001b[39;49m To update, run: \u001b[0m\u001b[32;49mpip install --upgrade pip\u001b[0m\n",
            "Note: you may need to restart the kernel to use updated packages.\n",
            "Defaulting to user installation because normal site-packages is not writeable\n",
            "Collecting seaborn\n",
            "  Downloading seaborn-0.13.2-py3-none-any.whl.metadata (5.4 kB)\n",
            "Requirement already satisfied: numpy!=1.24.0,>=1.20 in /home/vscode/.local/lib/python3.12/site-packages (from seaborn) (2.2.2)\n",
            "Requirement already satisfied: pandas>=1.2 in /home/vscode/.local/lib/python3.12/site-packages (from seaborn) (2.2.3)\n",
            "Requirement already satisfied: matplotlib!=3.6.1,>=3.4 in /home/vscode/.local/lib/python3.12/site-packages (from seaborn) (3.10.0)\n",
            "Requirement already satisfied: contourpy>=1.0.1 in /home/vscode/.local/lib/python3.12/site-packages (from matplotlib!=3.6.1,>=3.4->seaborn) (1.3.1)\n",
            "Requirement already satisfied: cycler>=0.10 in /home/vscode/.local/lib/python3.12/site-packages (from matplotlib!=3.6.1,>=3.4->seaborn) (0.12.1)\n",
            "Requirement already satisfied: fonttools>=4.22.0 in /home/vscode/.local/lib/python3.12/site-packages (from matplotlib!=3.6.1,>=3.4->seaborn) (4.55.4)\n",
            "Requirement already satisfied: kiwisolver>=1.3.1 in /home/vscode/.local/lib/python3.12/site-packages (from matplotlib!=3.6.1,>=3.4->seaborn) (1.4.8)\n",
            "Requirement already satisfied: packaging>=20.0 in /home/vscode/.local/lib/python3.12/site-packages (from matplotlib!=3.6.1,>=3.4->seaborn) (24.2)\n",
            "Requirement already satisfied: pillow>=8 in /home/vscode/.local/lib/python3.12/site-packages (from matplotlib!=3.6.1,>=3.4->seaborn) (11.1.0)\n",
            "Requirement already satisfied: pyparsing>=2.3.1 in /home/vscode/.local/lib/python3.12/site-packages (from matplotlib!=3.6.1,>=3.4->seaborn) (3.2.1)\n",
            "Requirement already satisfied: python-dateutil>=2.7 in /home/vscode/.local/lib/python3.12/site-packages (from matplotlib!=3.6.1,>=3.4->seaborn) (2.9.0.post0)\n",
            "Requirement already satisfied: pytz>=2020.1 in /home/vscode/.local/lib/python3.12/site-packages (from pandas>=1.2->seaborn) (2024.2)\n",
            "Requirement already satisfied: tzdata>=2022.7 in /home/vscode/.local/lib/python3.12/site-packages (from pandas>=1.2->seaborn) (2025.1)\n",
            "Requirement already satisfied: six>=1.5 in /home/vscode/.local/lib/python3.12/site-packages (from python-dateutil>=2.7->matplotlib!=3.6.1,>=3.4->seaborn) (1.17.0)\n",
            "Downloading seaborn-0.13.2-py3-none-any.whl (294 kB)\n",
            "Installing collected packages: seaborn\n",
            "Successfully installed seaborn-0.13.2\n",
            "\n",
            "\u001b[1m[\u001b[0m\u001b[34;49mnotice\u001b[0m\u001b[1;39;49m]\u001b[0m\u001b[39;49m A new release of pip is available: \u001b[0m\u001b[31;49m24.3.1\u001b[0m\u001b[39;49m -> \u001b[0m\u001b[32;49m25.0.1\u001b[0m\n",
            "\u001b[1m[\u001b[0m\u001b[34;49mnotice\u001b[0m\u001b[1;39;49m]\u001b[0m\u001b[39;49m To update, run: \u001b[0m\u001b[32;49mpip install --upgrade pip\u001b[0m\n",
            "Note: you may need to restart the kernel to use updated packages.\n",
            "Defaulting to user installation because normal site-packages is not writeable\n",
            "Requirement already satisfied: scikit-learn in /home/vscode/.local/lib/python3.12/site-packages (1.6.1)\n",
            "Requirement already satisfied: numpy>=1.19.5 in /home/vscode/.local/lib/python3.12/site-packages (from scikit-learn) (2.2.2)\n",
            "Requirement already satisfied: scipy>=1.6.0 in /home/vscode/.local/lib/python3.12/site-packages (from scikit-learn) (1.15.1)\n",
            "Requirement already satisfied: joblib>=1.2.0 in /home/vscode/.local/lib/python3.12/site-packages (from scikit-learn) (1.4.2)\n",
            "Requirement already satisfied: threadpoolctl>=3.1.0 in /home/vscode/.local/lib/python3.12/site-packages (from scikit-learn) (3.5.0)\n",
            "\n",
            "\u001b[1m[\u001b[0m\u001b[34;49mnotice\u001b[0m\u001b[1;39;49m]\u001b[0m\u001b[39;49m A new release of pip is available: \u001b[0m\u001b[31;49m24.3.1\u001b[0m\u001b[39;49m -> \u001b[0m\u001b[32;49m25.0.1\u001b[0m\n",
            "\u001b[1m[\u001b[0m\u001b[34;49mnotice\u001b[0m\u001b[1;39;49m]\u001b[0m\u001b[39;49m To update, run: \u001b[0m\u001b[32;49mpip install --upgrade pip\u001b[0m\n",
            "Note: you may need to restart the kernel to use updated packages.\n"
          ]
        }
      ],
      "source": [
        "%pip install scikit-learn\n",
        "%pip install nltk\n",
        "%pip install pandas\n",
        "%pip install numpy\n",
        "%pip install matplotlib\n",
        "%pip install seaborn\n",
        "%pip install scikit-learn"
      ]
    },
    {
      "cell_type": "code",
      "execution_count": 2,
      "metadata": {
        "id": "KNG8w2cEZ_63"
      },
      "outputs": [],
      "source": [
        "from sklearn.feature_extraction.text import CountVectorizer\n",
        "from sklearn.model_selection import train_test_split\n",
        "from sklearn.naive_bayes import MultinomialNB\n",
        "from sklearn.metrics import classification_report, confusion_matrix,accuracy_score\n",
        "import matplotlib.pyplot as plt\n",
        "import seaborn as sns\n",
        "import nltk\n",
        "from nltk.corpus import stopwords\n",
        "import re\n",
        "import pandas as pd"
      ]
    },
    {
      "cell_type": "code",
      "execution_count": 3,
      "metadata": {
        "colab": {
          "base_uri": "https://localhost:8080/"
        },
        "id": "70L9my0NaMug",
        "outputId": "fa7356d3-b061-4db1-b1bc-f10b04fc1720"
      },
      "outputs": [
        {
          "name": "stderr",
          "output_type": "stream",
          "text": [
            "[nltk_data] Downloading package stopwords to /home/vscode/nltk_data...\n",
            "[nltk_data]   Package stopwords is already up-to-date!\n"
          ]
        },
        {
          "data": {
            "text/plain": [
              "True"
            ]
          },
          "execution_count": 3,
          "metadata": {},
          "output_type": "execute_result"
        }
      ],
      "source": [
        "stemmer = nltk.stem.SnowballStemmer('spanish')\n",
        "nltk.download('stopwords')\n"
      ]
    },
    {
      "cell_type": "code",
      "execution_count": 6,
      "metadata": {
        "colab": {
          "base_uri": "https://localhost:8080/",
          "height": 260
        },
        "id": "9G84WXBoaTBp",
        "outputId": "df6f2fa6-259b-4080-d909-9743bfe4392a"
      },
      "outputs": [
        {
          "name": "stderr",
          "output_type": "stream",
          "text": [
            "<>:1: SyntaxWarning: invalid escape sequence '\\|'\n",
            "<>:1: SyntaxWarning: invalid escape sequence '\\|'\n",
            "/tmp/ipykernel_1118/1315668273.py:1: SyntaxWarning: invalid escape sequence '\\|'\n",
            "  df = pd.read_csv('reviews_filmaffinity.csv', sep='\\|\\|',\n",
            "/tmp/ipykernel_1118/1315668273.py:1: ParserWarning: Falling back to the 'python' engine because the 'c' engine does not support regex separators (separators > 1 char and different from '\\s+' are interpreted as regex); you can avoid this warning by specifying engine='python'.\n",
            "  df = pd.read_csv('reviews_filmaffinity.csv', sep='\\|\\|',\n"
          ]
        },
        {
          "data": {
            "text/html": [
              "<div>\n",
              "<style scoped>\n",
              "    .dataframe tbody tr th:only-of-type {\n",
              "        vertical-align: middle;\n",
              "    }\n",
              "\n",
              "    .dataframe tbody tr th {\n",
              "        vertical-align: top;\n",
              "    }\n",
              "\n",
              "    .dataframe thead th {\n",
              "        text-align: right;\n",
              "    }\n",
              "</style>\n",
              "<table border=\"1\" class=\"dataframe\">\n",
              "  <thead>\n",
              "    <tr style=\"text-align: right;\">\n",
              "      <th></th>\n",
              "      <th>film_name</th>\n",
              "      <th>gender</th>\n",
              "      <th>film_avg_rate</th>\n",
              "      <th>review_rate</th>\n",
              "      <th>review_title</th>\n",
              "      <th>review_text</th>\n",
              "    </tr>\n",
              "  </thead>\n",
              "  <tbody>\n",
              "    <tr>\n",
              "      <th>0</th>\n",
              "      <td>Ocho apellidos vascos</td>\n",
              "      <td>Comedia</td>\n",
              "      <td>6,0</td>\n",
              "      <td>3.0</td>\n",
              "      <td>OCHO APELLIDOS VASCOS...Y NINGÚN NOMBRE PROPIO</td>\n",
              "      <td>La mayor virtud de esta película es su existen...</td>\n",
              "    </tr>\n",
              "    <tr>\n",
              "      <th>1</th>\n",
              "      <td>Ocho apellidos vascos</td>\n",
              "      <td>Comedia</td>\n",
              "      <td>6,0</td>\n",
              "      <td>2.0</td>\n",
              "      <td>El perro verde</td>\n",
              "      <td>No soy un experto cinéfilo, pero pocas veces m...</td>\n",
              "    </tr>\n",
              "    <tr>\n",
              "      <th>2</th>\n",
              "      <td>Ocho apellidos vascos</td>\n",
              "      <td>Comedia</td>\n",
              "      <td>6,0</td>\n",
              "      <td>2.0</td>\n",
              "      <td>Si no eres de comer mierda... no te comas esta...</td>\n",
              "      <td>Si no eres un incondicional del humor estilo T...</td>\n",
              "    </tr>\n",
              "    <tr>\n",
              "      <th>3</th>\n",
              "      <td>Ocho apellidos vascos</td>\n",
              "      <td>Comedia</td>\n",
              "      <td>6,0</td>\n",
              "      <td>2.0</td>\n",
              "      <td>Aida: The movie</td>\n",
              "      <td>No sé qué está pasando, si la gente se deja ll...</td>\n",
              "    </tr>\n",
              "    <tr>\n",
              "      <th>4</th>\n",
              "      <td>Ocho apellidos vascos</td>\n",
              "      <td>Comedia</td>\n",
              "      <td>6,0</td>\n",
              "      <td>2.0</td>\n",
              "      <td>UN HOMBRE SOLO (Julio Iglesias 1987)</td>\n",
              "      <td>\"Pero cuando amanece,y me quedo solo,siento en...</td>\n",
              "    </tr>\n",
              "  </tbody>\n",
              "</table>\n",
              "</div>"
            ],
            "text/plain": [
              "               film_name   gender film_avg_rate  review_rate  \\\n",
              "0  Ocho apellidos vascos  Comedia           6,0          3.0   \n",
              "1  Ocho apellidos vascos  Comedia           6,0          2.0   \n",
              "2  Ocho apellidos vascos  Comedia           6,0          2.0   \n",
              "3  Ocho apellidos vascos  Comedia           6,0          2.0   \n",
              "4  Ocho apellidos vascos  Comedia           6,0          2.0   \n",
              "\n",
              "                                        review_title  \\\n",
              "0     OCHO APELLIDOS VASCOS...Y NINGÚN NOMBRE PROPIO   \n",
              "1                                     El perro verde   \n",
              "2  Si no eres de comer mierda... no te comas esta...   \n",
              "3                                    Aida: The movie   \n",
              "4               UN HOMBRE SOLO (Julio Iglesias 1987)   \n",
              "\n",
              "                                         review_text  \n",
              "0  La mayor virtud de esta película es su existen...  \n",
              "1  No soy un experto cinéfilo, pero pocas veces m...  \n",
              "2  Si no eres un incondicional del humor estilo T...  \n",
              "3  No sé qué está pasando, si la gente se deja ll...  \n",
              "4  \"Pero cuando amanece,y me quedo solo,siento en...  "
            ]
          },
          "execution_count": 6,
          "metadata": {},
          "output_type": "execute_result"
        }
      ],
      "source": [
        "df = pd.read_csv('reviews_filmaffinity.csv', sep='\\|\\|',\n",
        "                 header=0, index_col= None, encoding='utf-8')\n",
        "df.head()"
      ]
    },
    {
      "cell_type": "code",
      "execution_count": 8,
      "metadata": {
        "colab": {
          "base_uri": "https://localhost:8080/",
          "height": 206
        },
        "id": "hk_nsLkecMrd",
        "outputId": "16bf1fa3-4456-43a4-afde-f6d8a311ccda"
      },
      "outputs": [
        {
          "data": {
            "text/html": [
              "<div>\n",
              "<style scoped>\n",
              "    .dataframe tbody tr th:only-of-type {\n",
              "        vertical-align: middle;\n",
              "    }\n",
              "\n",
              "    .dataframe tbody tr th {\n",
              "        vertical-align: top;\n",
              "    }\n",
              "\n",
              "    .dataframe thead th {\n",
              "        text-align: right;\n",
              "    }\n",
              "</style>\n",
              "<table border=\"1\" class=\"dataframe\">\n",
              "  <thead>\n",
              "    <tr style=\"text-align: right;\">\n",
              "      <th></th>\n",
              "      <th>review_text</th>\n",
              "      <th>review_rate</th>\n",
              "      <th>polaridad</th>\n",
              "    </tr>\n",
              "  </thead>\n",
              "  <tbody>\n",
              "    <tr>\n",
              "      <th>0</th>\n",
              "      <td>La mayor virtud de esta película es su existen...</td>\n",
              "      <td>3.0</td>\n",
              "      <td>negativo</td>\n",
              "    </tr>\n",
              "    <tr>\n",
              "      <th>1</th>\n",
              "      <td>No soy un experto cinéfilo, pero pocas veces m...</td>\n",
              "      <td>2.0</td>\n",
              "      <td>negativo</td>\n",
              "    </tr>\n",
              "    <tr>\n",
              "      <th>2</th>\n",
              "      <td>Si no eres un incondicional del humor estilo T...</td>\n",
              "      <td>2.0</td>\n",
              "      <td>negativo</td>\n",
              "    </tr>\n",
              "    <tr>\n",
              "      <th>3</th>\n",
              "      <td>No sé qué está pasando, si la gente se deja ll...</td>\n",
              "      <td>2.0</td>\n",
              "      <td>negativo</td>\n",
              "    </tr>\n",
              "    <tr>\n",
              "      <th>4</th>\n",
              "      <td>\"Pero cuando amanece,y me quedo solo,siento en...</td>\n",
              "      <td>2.0</td>\n",
              "      <td>negativo</td>\n",
              "    </tr>\n",
              "  </tbody>\n",
              "</table>\n",
              "</div>"
            ],
            "text/plain": [
              "                                         review_text  review_rate polaridad\n",
              "0  La mayor virtud de esta película es su existen...          3.0  negativo\n",
              "1  No soy un experto cinéfilo, pero pocas veces m...          2.0  negativo\n",
              "2  Si no eres un incondicional del humor estilo T...          2.0  negativo\n",
              "3  No sé qué está pasando, si la gente se deja ll...          2.0  negativo\n",
              "4  \"Pero cuando amanece,y me quedo solo,siento en...          2.0  negativo"
            ]
          },
          "execution_count": 8,
          "metadata": {},
          "output_type": "execute_result"
        }
      ],
      "source": [
        "df = df[['review_text', 'review_rate']]\n",
        "\n",
        "df['polaridad'] = df['review_rate'].apply(lambda x: 'positivo' if x > 7 else 'negativo')\n",
        "df.head()"
      ]
    },
    {
      "cell_type": "code",
      "execution_count": 11,
      "metadata": {
        "colab": {
          "base_uri": "https://localhost:8080/"
        },
        "id": "lA-VT7TDc2UW",
        "outputId": "4c376603-ae70-4a6f-a1ec-ae234d38e37c"
      },
      "outputs": [
        {
          "name": "stdout",
          "output_type": "stream",
          "text": [
            "Fui a ver esta película ante la insistencia de mis hijas y cual sería mi sorpresa cuando estuve hora y media riéndome hasta no poder más. Es una comedia original, atrevida, positiva e inspiradora. La moraleja que podemos extraer es que hemos de aprender todos a reírnos mucho más de nosotros mismos y a no tomarnos tan en serio. Así probablemente seriamos bastante más felices, más serenos y más tolerantes. Ir de \"dignos\" por la vida no trae nada bueno\n",
            "positivo\n"
          ]
        }
      ],
      "source": [
        "print(df.loc[2895].review_text)\n",
        "print( df.loc[2895].polaridad)"
      ]
    },
    {
      "cell_type": "code",
      "execution_count": 12,
      "metadata": {
        "colab": {
          "base_uri": "https://localhost:8080/",
          "height": 546
        },
        "id": "_-DpU-DcdBr4",
        "outputId": "9b2a3b27-85ed-47ed-9e79-fa659d45356b"
      },
      "outputs": [
        {
          "data": {
            "text/plain": [
              "Text(30.764506172839504, 0.5, 'Conteo')"
            ]
          },
          "execution_count": 12,
          "metadata": {},
          "output_type": "execute_result"
        },
        {
          "data": {
            "image/png": "[encoded data removed]",
            "text/plain": [
              "<Figure size 511.111x500 with 1 Axes>"
            ]
          },
          "metadata": {},
          "output_type": "display_data"
        }
      ],
      "source": [
        "sns.catplot(x='polaridad', kind='count', color='r', data=df)\n",
        "plt.title('Distribución de Ejemplos')\n",
        "plt.xlabel('Polaridad')\n",
        "plt.ylabel('Conteo')"
      ]
    },
    {
      "cell_type": "code",
      "execution_count": 13,
      "metadata": {
        "id": "9TPSMdgIdQLg"
      },
      "outputs": [],
      "source": [
        "def processing_text(texto):\n",
        "# Paso 1: Remover con un expresión regular carateres especiales (no␣ ,→palabras).\n",
        "  processed_feature = re.sub(r'\\W', ' ', str(texto))\n",
        "  # Paso 2: Remover ocurrencias de caracteres individuales\n",
        "  processed_feature= re.sub(r'\\s+[a-zA-Z]\\s+', ' ', processed_feature)\n",
        "  processed_feature = re.sub(r'\\^[a-zA-Z]\\s+', ' ', processed_feature)\n",
        "  # Paso 3: Remover números (Ocurrencias muy esporádicas en nuestro dataset)\n",
        "  processed_feature = re.sub(r'[0-9]+', ' ', processed_feature)\n",
        "  # Paso 4: Simplificar espacios concecutivos a un único espacio entre, palabras\n",
        "  processed_feature = re.sub(' +', ' ', processed_feature)\n",
        "   # Paso 5: Pasar todo el texto a minúsculas\n",
        "  processed_feature = processed_feature.lower()\n",
        "  processed_feature = \" \".join([stemmer.stem(i) for i in processed_feature.split()])\n",
        "  return processed_feature"
      ]
    },
    {
      "cell_type": "code",
      "execution_count": 14,
      "metadata": {
        "id": "gD7bAF7AdiKR"
      },
      "outputs": [],
      "source": [
        "texto_para_procesar = df['review_text'].values\n",
        "labels = df['polaridad'].values\n",
        "\n",
        "\n",
        "texto_procesado = []\n",
        "for sentence in range(0, len(texto_para_procesar)):\n",
        "    procesado = processing_text(texto_para_procesar[sentence])\n",
        "    texto_procesado.append(procesado)"
      ]
    },
    {
      "cell_type": "code",
      "execution_count": 17,
      "metadata": {
        "colab": {
          "base_uri": "https://localhost:8080/"
        },
        "id": "k1giLVXHdp7Y",
        "outputId": "1d238f43-d130-4c80-c25d-ab7c69a40564"
      },
      "outputs": [
        {
          "name": "stdout",
          "output_type": "stream",
          "text": [
            "Sin procesar:\n",
            "Una de esas películas que sabe conectar con el público, y que lo consigue gracias a unos personajes en torno a los que se construye el resto de la historia (que en este caso es lo de menos), un tipo de cine muy apropiado para compartir con los amigos o la familia sin más pretensiones que las de disfrutar de una forma sana y divertida, algo aparentemente sencillo pero que muy pocas películas consiguen, y ése es el verdadero valor de esta película.Lo mejor:  Sus personajes protagonistas, gracias a los que se consiguen varios de los mejores momentos de la película.Lo peor:  Quizás haberse excedido en lo que a autosuperación se refiere, y ya de paso, no haberse atrevido a potenciar algo más el componente dramático de la película. www.aluCINEando.com\n",
            "---------------------------------\n",
            "Procesado:\n",
            "una de esas pelicul que sab conect con el public que lo consig graci unos personaj en torn los que se constru el rest de la histori que en este cas es lo de men un tip de cin muy apropi par compart con los amig la famili sin mas pretension que las de disfrut de una form san divert algo aparent sencill per que muy poc pelicul consig ese es el verdader valor de esta pelicul lo mejor sus personaj protagon graci los que se consig vari de los mejor moment de la pelicul lo peor quizas hab exced en lo que autosuper se refier ya de pas no hab atrev potenci algo mas el component dramat de la pelicul www alucin com\n"
          ]
        }
      ],
      "source": [
        "print(\"Sin procesar:\")\n",
        "print(texto_para_procesar[2894])\n",
        "print(\"---------------------------------\")\n",
        "print(\"Procesado:\")\n",
        "print(texto_procesado[2894])"
      ]
    },
    {
      "cell_type": "code",
      "execution_count": 18,
      "metadata": {
        "colab": {
          "base_uri": "https://localhost:8080/"
        },
        "id": "CQ0wspCud496",
        "outputId": "ac5c8d0b-857e-41ec-def2-2f5b3affde1a"
      },
      "outputs": [
        {
          "name": "stdout",
          "output_type": "stream",
          "text": [
            "['de', 'la', 'que', 'el', 'en', 'y', 'a', 'los', 'del', 'se', 'las', 'por', 'un', 'para', 'con', 'no', 'una', 'su', 'al', 'lo', 'como', 'más', 'pero', 'sus', 'le', 'ya', 'o', 'este', 'sí', 'porque', 'esta', 'entre', 'cuando', 'muy', 'sin', 'sobre', 'también', 'me', 'hasta', 'hay', 'donde', 'quien', 'desde', 'todo', 'nos', 'durante', 'todos', 'uno', 'les', 'ni', 'contra', 'otros', 'ese', 'eso', 'ante', 'ellos', 'e', 'esto', 'mí', 'antes', 'algunos', 'qué', 'unos', 'yo', 'otro', 'otras', 'otra', 'él', 'tanto', 'esa', 'estos', 'mucho', 'quienes', 'nada', 'muchos', 'cual', 'poco', 'ella', 'estar', 'estas', 'algunas', 'algo', 'nosotros', 'mi', 'mis', 'tú', 'te', 'ti', 'tu', 'tus', 'ellas', 'nosotras', 'vosotros', 'vosotras', 'os', 'mío', 'mía', 'míos', 'mías', 'tuyo', 'tuya', 'tuyos', 'tuyas', 'suyo', 'suya', 'suyos', 'suyas', 'nuestro', 'nuestra', 'nuestros', 'nuestras', 'vuestro', 'vuestra', 'vuestros', 'vuestras', 'esos', 'esas', 'estoy', 'estás', 'está', 'estamos', 'estáis', 'están', 'esté', 'estés', 'estemos', 'estéis', 'estén', 'estaré', 'estarás', 'estará', 'estaremos', 'estaréis', 'estarán', 'estaría', 'estarías', 'estaríamos', 'estaríais', 'estarían', 'estaba', 'estabas', 'estábamos', 'estabais', 'estaban', 'estuve', 'estuviste', 'estuvo', 'estuvimos', 'estuvisteis', 'estuvieron', 'estuviera', 'estuvieras', 'estuviéramos', 'estuvierais', 'estuvieran', 'estuviese', 'estuvieses', 'estuviésemos', 'estuvieseis', 'estuviesen', 'estando', 'estado', 'estada', 'estados', 'estadas', 'estad', 'he', 'has', 'ha', 'hemos', 'habéis', 'han', 'haya', 'hayas', 'hayamos', 'hayáis', 'hayan', 'habré', 'habrás', 'habrá', 'habremos', 'habréis', 'habrán', 'habría', 'habrías', 'habríamos', 'habríais', 'habrían', 'había', 'habías', 'habíamos', 'habíais', 'habían', 'hube', 'hubiste', 'hubo', 'hubimos', 'hubisteis', 'hubieron', 'hubiera', 'hubieras', 'hubiéramos', 'hubierais', 'hubieran', 'hubiese', 'hubieses', 'hubiésemos', 'hubieseis', 'hubiesen', 'habiendo', 'habido', 'habida', 'habidos', 'habidas', 'soy', 'eres', 'es', 'somos', 'sois', 'son', 'sea', 'seas', 'seamos', 'seáis', 'sean', 'seré', 'serás', 'será', 'seremos', 'seréis', 'serán', 'sería', 'serías', 'seríamos', 'seríais', 'serían', 'era', 'eras', 'éramos', 'erais', 'eran', 'fui', 'fuiste', 'fue', 'fuimos', 'fuisteis', 'fueron', 'fuera', 'fueras', 'fuéramos', 'fuerais', 'fueran', 'fuese', 'fueses', 'fuésemos', 'fueseis', 'fuesen', 'sintiendo', 'sentido', 'sentida', 'sentidos', 'sentidas', 'siente', 'sentid', 'tengo', 'tienes', 'tiene', 'tenemos', 'tenéis', 'tienen', 'tenga', 'tengas', 'tengamos', 'tengáis', 'tengan', 'tendré', 'tendrás', 'tendrá', 'tendremos', 'tendréis', 'tendrán', 'tendría', 'tendrías', 'tendríamos', 'tendríais', 'tendrían', 'tenía', 'tenías', 'teníamos', 'teníais', 'tenían', 'tuve', 'tuviste', 'tuvo', 'tuvimos', 'tuvisteis', 'tuvieron', 'tuviera', 'tuvieras', 'tuviéramos', 'tuvierais', 'tuvieran', 'tuviese', 'tuvieses', 'tuviésemos', 'tuvieseis', 'tuviesen', 'teniendo', 'tenido', 'tenida', 'tenidos', 'tenidas', 'tened']\n"
          ]
        }
      ],
      "source": [
        "print(stopwords.words('spanish'))"
      ]
    },
    {
      "cell_type": "code",
      "execution_count": 22,
      "metadata": {
        "id": "Qcq7T-IReNYJ"
      },
      "outputs": [],
      "source": [
        "vectorizer = CountVectorizer(max_features=2500, stop_words=stopwords.words('spanish'))\n",
        "texto_features = vectorizer.fit_transform(texto_procesado).toarray()"
      ]
    },
    {
      "cell_type": "code",
      "execution_count": 24,
      "metadata": {
        "colab": {
          "base_uri": "https://localhost:8080/"
        },
        "id": "px0plGpCen-e",
        "outputId": "de52ebec-5aa8-4511-d9d1-127f5c59651e"
      },
      "outputs": [
        {
          "data": {
            "text/plain": [
              "array(['abaj', 'abandon', 'abarc', 'abiert', 'abord', 'abraz', 'abre',\n",
              "       'absolut', 'absurd', 'abuel', 'abund', 'aburr', 'abus', 'acab',\n",
              "       'academi', 'acas', 'accident', 'accion', 'acent', 'acept', 'acerc',\n",
              "       'acert', 'aciert', 'aclar', 'acompañ', 'acontec', 'acord', 'acost',\n",
              "       'acostumbr', 'actitud', 'acto', 'actor', 'actoral', 'actos',\n",
              "       'actric', 'actriz', 'actu', 'actuacion', 'actual', 'acud',\n",
              "       'acuerd', 'acus', 'adapt', 'adecu', 'adel', 'ademas', 'adentr',\n",
              "       'adivin', 'adjet', 'admir', 'admit', 'adolescent', 'ador', 'adorn',\n",
              "       'adult', 'aere', 'afan', 'afect', 'aficion', 'afirm', 'afortun',\n",
              "       'afront', 'agarr', 'agent', 'agil', 'agobi', 'agor', 'agot',\n",
              "       'agrad', 'agradec', 'agres', 'agu', 'aguant', 'agustin', 'ah',\n",
              "       'ahi', 'ahor', 'ahorr', 'aid', 'air', 'airbag', 'ajen', 'ajust',\n",
              "       'alab', 'alard', 'alarg', 'alatr', 'albert', 'alcanc', 'alcanz',\n",
              "       'alec', 'alegr', 'alej', 'alejandr', 'alemani', 'alex', 'algui',\n",
              "       'algun', 'ali', 'alla'], dtype=object)"
            ]
          },
          "execution_count": 24,
          "metadata": {},
          "output_type": "execute_result"
        }
      ],
      "source": [
        "vectorizer.get_feature_names_out()[:100]"
      ]
    },
    {
      "cell_type": "code",
      "execution_count": 25,
      "metadata": {
        "colab": {
          "base_uri": "https://localhost:8080/"
        },
        "id": "TvosjOr5et3k",
        "outputId": "da4dbb20-53cb-4124-9e5c-5e6c5c223792"
      },
      "outputs": [
        {
          "name": "stdout",
          "output_type": "stream",
          "text": [
            "[0 0 0 0 0 0 0 0 0 0 0 0 0 0 0 0 0 0 0 0 0 0 0 0 0 0 0 0 0 0 0 0 0 0 0 0 0\n",
            " 0 0 0 0 0 0 0 0 0 0 0 0 0 0 0 0 0 0 0 0 0 0 0 0 0 0 0 0 0 0 0 0 0 0 0 0 0\n",
            " 0 0 0 0 0 0 0 0 0 0 0 0 0 0 0 0 0 0 0 0 0 0 0 0 0]\n"
          ]
        }
      ],
      "source": [
        "print(texto_features[2895][1:100])"
      ]
    },
    {
      "cell_type": "code",
      "execution_count": 2,
      "metadata": {
        "colab": {
          "base_uri": "https://localhost:8080/",
          "height": 79
        },
        "id": "Oa9ldfKKew3v",
        "outputId": "a8da19a2-4225-416c-f77b-4a6f45a5e5dc"
      },
      "outputs": [
        {
          "ename": "NameError",
          "evalue": "name 'train_test_split' is not defined",
          "output_type": "error",
          "traceback": [
            "\u001b[0;31m---------------------------------------------------------------------------\u001b[0m",
            "\u001b[0;31mNameError\u001b[0m                                 Traceback (most recent call last)",
            "Cell \u001b[0;32mIn[2], line 1\u001b[0m\n\u001b[0;32m----> 1\u001b[0m X_train, X_test, y_train, y_test \u001b[38;5;241m=\u001b[39m \u001b[43mtrain_test_split\u001b[49m(texto_features, labels,test_size\u001b[38;5;241m=\u001b[39m\u001b[38;5;241m0.2\u001b[39m, random_state\u001b[38;5;241m=\u001b[39m\u001b[38;5;241m0\u001b[39m)\n\u001b[1;32m      2\u001b[0m \u001b[38;5;28mprint\u001b[39m(X_train, X_test)\n\u001b[1;32m      3\u001b[0m nb \u001b[38;5;241m=\u001b[39m MultinomialNB()\n",
            "\u001b[0;31mNameError\u001b[0m: name 'train_test_split' is not defined"
          ]
        }
      ],
      "source": [
        "X_train, X_test, y_train, y_test = train_test_split(texto_features, labels,test_size=0.2, random_state=0)\n",
        "print(X_train, X_test)\n",
        "nb = MultinomialNB()\n",
        "\n",
        "nb.fit(X_train, y_train)"
      ]
    },
    {
      "cell_type": "code",
      "execution_count": 28,
      "metadata": {
        "id": "uOXN-J56e3oC"
      },
      "outputs": [],
      "source": [
        "predictions = nb.predict(X_test)"
      ]
    },
    {
      "cell_type": "code",
      "execution_count": 30,
      "metadata": {
        "colab": {
          "base_uri": "https://localhost:8080/"
        },
        "id": "tAc1ndtfe5ZC",
        "outputId": "a6922c3f-34da-436c-f76f-146f4b60c9f4"
      },
      "outputs": [
        {
          "name": "stdout",
          "output_type": "stream",
          "text": [
            "0.7640906449738524\n"
          ]
        }
      ],
      "source": [
        "print(accuracy_score(y_test, predictions))"
      ]
    },
    {
      "cell_type": "code",
      "execution_count": null,
      "metadata": {
        "colab": {
          "base_uri": "https://localhost:8080/"
        },
        "id": "piAZFn8Ne9G0",
        "outputId": "2034fc9b-d263-46f8-98fd-68e2ef84a937"
      },
      "outputs": [
        {
          "name": "stdout",
          "output_type": "stream",
          "text": [
            "PASO 1 procesamiento: fue la mejor pelicul que he vist en mi vid\n",
            "PASO 2 representación: <Compressed Sparse Row sparse matrix of dtype 'int64'\n",
            "\twith 4 stored elements and shape (1, 2500)>\n",
            "  Coords\tValues\n",
            "  (0, 1503)\t1\n",
            "  (0, 1740)\t1\n",
            "  (0, 2451)\t1\n",
            "  (0, 2468)\t1\n",
            "PASO 3 predecir con el modelo: ['positivo']\n"
          ]
        }
      ],
      "source": [
        "test = \"Fue la mejor pelicula que he visto en mi vida\"\n",
        "\n",
        "\n",
        "test_procesado = processing_text(test)\n",
        "\n",
        "\n",
        "print(\"PASO 1 procesamiento:\" ,test_procesado)\n",
        "\n",
        "\n",
        "\n",
        "test_bow =vectorizer.transform([test_procesado])\n",
        "\n",
        "\n",
        "print(\"PASO 2 representación:\" ,test_bow)\n",
        "\n",
        "\n",
        "clase_test = nb.predict(test_bow)\n",
        "\n",
        "# print(accuracy_score(y_test, predictions))\n",
        "\n",
        "\n",
        "print(\"PASO 3 predecir con el modelo:\" ,clase_test)"
      ]
    }
  ],
  "metadata": {
    "colab": {
      "provenance": []
    },
    "kernelspec": {
      "display_name": "Python 3",
      "name": "python3"
    },
    "language_info": {
      "codemirror_mode": {
        "name": "ipython",
        "version": 3
      },
      "file_extension": ".py",
      "mimetype": "text/x-python",
      "name": "python",
      "nbconvert_exporter": "python",
      "pygments_lexer": "ipython3",
      "version": "3.12.8"
    }
  },
  "nbformat": 4,
  "nbformat_minor": 0
}
