{
  "cells": [
    {
      "cell_type": "code",
      "execution_count": null,
      "metadata": {
        "colab": {
          "base_uri": "https://localhost:8080/"
        },
        "id": "z0fEJmV3HkEZ",
        "outputId": "a3b1fe4d-6625-4584-ccaf-0c56e552f241"
      },
      "outputs": [
        {
          "name": "stdout",
          "output_type": "stream",
          "text": [
            "Defaulting to user installation because normal site-packages is not writeable\n",
            "Requirement already satisfied: nltk in /home/vscode/.local/lib/python3.12/site-packages (3.9.1)\n",
            "Requirement already satisfied: click in /home/vscode/.local/lib/python3.12/site-packages (from nltk) (8.1.8)\n",
            "Requirement already satisfied: joblib in /home/vscode/.local/lib/python3.12/site-packages (from nltk) (1.4.2)\n",
            "Requirement already satisfied: regex>=2021.8.3 in /home/vscode/.local/lib/python3.12/site-packages (from nltk) (2024.11.6)\n",
            "Requirement already satisfied: tqdm in /home/vscode/.local/lib/python3.12/site-packages (from nltk) (4.67.1)\n",
            "Defaulting to user installation because normal site-packages is not writeable\n",
            "Requirement already satisfied: scikit-learn in /home/vscode/.local/lib/python3.12/site-packages (1.6.1)\n",
            "Requirement already satisfied: numpy>=1.19.5 in /home/vscode/.local/lib/python3.12/site-packages (from scikit-learn) (2.2.2)\n",
            "Requirement already satisfied: scipy>=1.6.0 in /home/vscode/.local/lib/python3.12/site-packages (from scikit-learn) (1.15.1)\n",
            "Requirement already satisfied: joblib>=1.2.0 in /home/vscode/.local/lib/python3.12/site-packages (from scikit-learn) (1.4.2)\n",
            "Requirement already satisfied: threadpoolctl>=3.1.0 in /home/vscode/.local/lib/python3.12/site-packages (from scikit-learn) (3.5.0)\n"
          ]
        }
      ],
      "source": [
        "%pip install nltk\n",
        "%pip install scikit-learn"
      ]
    },
    {
      "cell_type": "code",
      "execution_count": 8,
      "metadata": {
        "colab": {
          "base_uri": "https://localhost:8080/"
        },
        "id": "5RMXkiwbHsvR",
        "outputId": "f9bd3f65-97bb-4c96-9f31-699be715df3e"
      },
      "outputs": [
        {
          "name": "stderr",
          "output_type": "stream",
          "text": [
            "[nltk_data] Downloading package stopwords to /root/nltk_data...\n",
            "[nltk_data]   Unzipping corpora/stopwords.zip.\n",
            "[nltk_data] Downloading package wordnet to /root/nltk_data...\n",
            "[nltk_data] Downloading package punkt to /root/nltk_data...\n",
            "[nltk_data]   Unzipping tokenizers/punkt.zip.\n",
            "[nltk_data] Downloading package punkt_tab to /root/nltk_data...\n",
            "[nltk_data]   Unzipping tokenizers/punkt_tab.zip.\n"
          ]
        },
        {
          "data": {
            "text/plain": [
              "True"
            ]
          },
          "execution_count": 8,
          "metadata": {},
          "output_type": "execute_result"
        }
      ],
      "source": [
        "import nltk\n",
        "from nltk.corpus import stopwords\n",
        "from nltk.stem import WordNetLemmatizer\n",
        "import numpy as np\n",
        "import pandas as pd\n",
        "from sklearn.feature_extraction.text import TfidfVectorizer\n",
        "from sklearn.decomposition import TruncatedSVD\n",
        "\n",
        "nltk.download('stopwords')\n",
        "nltk.download('wordnet')\n",
        "nltk.download('punkt')\n",
        "nltk.download('punkt_tab')\n"
      ]
    },
    {
      "cell_type": "code",
      "execution_count": 87,
      "metadata": {
        "id": "RZoa0FGQIgrg"
      },
      "outputs": [],
      "source": [
        "documentos = [\n",
        "    \"El análisis de tópicos es una técnica poderosa en el procesamiento de lenguaje natural.\",\n",
        "    \"SVD es una técnica de reducción de dimensionalidad que se puede usar para el análisis de tópicos.\",\n",
        "    \"El procesamiento de lenguaje natural es un campo fascinante con muchas aplicaciones.\",\n",
        "    \"Los modelos de tópicos pueden revelar patrones ocultos en grandes cantidades de texto.\",\n",
        "    \"SVD también se utiliza en sistemas de recomendación y otras áreas.\"\n",
        "]"
      ]
    },
    {
      "cell_type": "code",
      "execution_count": 88,
      "metadata": {
        "colab": {
          "base_uri": "https://localhost:8080/"
        },
        "id": "f0gjT4ZBInrH",
        "outputId": "74a9be05-2a80-453e-ced0-b221ccc52780"
      },
      "outputs": [
        {
          "data": {
            "text/plain": [
              "[['análisi',\n",
              "  'tópico',\n",
              "  'técnica',\n",
              "  'poderosa',\n",
              "  'procesamiento',\n",
              "  'lenguaj',\n",
              "  'natur'],\n",
              " ['svd',\n",
              "  'técnica',\n",
              "  'reducción',\n",
              "  'dimensionalidad',\n",
              "  'pued',\n",
              "  'usar',\n",
              "  'análisi',\n",
              "  'tópico'],\n",
              " ['procesamiento',\n",
              "  'lenguaj',\n",
              "  'natur',\n",
              "  'campo',\n",
              "  'fascinant',\n",
              "  'mucha',\n",
              "  'aplicacion'],\n",
              " ['modelo',\n",
              "  'tópico',\n",
              "  'pueden',\n",
              "  'revelar',\n",
              "  'patron',\n",
              "  'oculto',\n",
              "  'grand',\n",
              "  'cantidad',\n",
              "  'texto'],\n",
              " ['svd', 'utiliza', 'sistema', 'recomendación', 'área']]"
            ]
          },
          "execution_count": 88,
          "metadata": {},
          "output_type": "execute_result"
        }
      ],
      "source": [
        "#procesamiento\n",
        "\n",
        "def procesamiento(texto):\n",
        "  texto = texto.lower()\n",
        "  texto = texto.replace(\".\", \"\")\n",
        "  texto = texto.replace(\",\", \"\")\n",
        "  palabras = nltk.word_tokenize(texto)\n",
        "  _stopwords = set(stopwords.words('spanish'))\n",
        "  palabras = [palabra for palabra in palabras if palabra not in _stopwords]\n",
        "  stemmer = nltk.stem.PorterStemmer()\n",
        "  palabras = [stemmer.stem(palabra) for palabra in palabras]\n",
        "  return palabras\n",
        "\n",
        "tokenizados = [procesamiento(doc) for doc in documentos]\n",
        "tokenizados"
      ]
    },
    {
      "cell_type": "code",
      "execution_count": 89,
      "metadata": {
        "id": "e4_nZusLLtvW"
      },
      "outputs": [],
      "source": [
        "#Representación de texto\n",
        "\n",
        "vectorizer = TfidfVectorizer()\n",
        "vectorizer.fit([\" \".join(doc) for doc in tokenizados])\n",
        "matriz_tf_idf = vectorizer.transform([\" \".join(doc) for doc in tokenizados])"
      ]
    },
    {
      "cell_type": "code",
      "execution_count": 90,
      "metadata": {
        "colab": {
          "base_uri": "https://localhost:8080/"
        },
        "id": "BPhBc5TJOV0U",
        "outputId": "e04760db-0a10-406a-e89d-9a29c9ddedca"
      },
      "outputs": [
        {
          "data": {
            "text/plain": [
              "{'análisi': 0,\n",
              " 'tópico': 24,\n",
              " 'técnica': 23,\n",
              " 'poderosa': 13,\n",
              " 'procesamiento': 14,\n",
              " 'lenguaj': 7,\n",
              " 'natur': 10,\n",
              " 'svd': 21,\n",
              " 'reducción': 18,\n",
              " 'dimensionalidad': 4,\n",
              " 'pued': 15,\n",
              " 'usar': 25,\n",
              " 'campo': 2,\n",
              " 'fascinant': 5,\n",
              " 'mucha': 9,\n",
              " 'aplicacion': 1,\n",
              " 'modelo': 8,\n",
              " 'pueden': 16,\n",
              " 'revelar': 19,\n",
              " 'patron': 12,\n",
              " 'oculto': 11,\n",
              " 'grand': 6,\n",
              " 'cantidad': 3,\n",
              " 'texto': 22,\n",
              " 'utiliza': 26,\n",
              " 'sistema': 20,\n",
              " 'recomendación': 17,\n",
              " 'área': 27}"
            ]
          },
          "execution_count": 90,
          "metadata": {},
          "output_type": "execute_result"
        }
      ],
      "source": [
        "vectorizer.vocabulary_"
      ]
    },
    {
      "cell_type": "code",
      "execution_count": 91,
      "metadata": {
        "colab": {
          "base_uri": "https://localhost:8080/"
        },
        "id": "8CtwPb4yO7oV",
        "outputId": "f66fba6e-12e0-4fb7-834d-ac8f0f085fdc"
      },
      "outputs": [
        {
          "data": {
            "text/plain": [
              "array(['análisi', 'aplicacion', 'campo', 'cantidad', 'dimensionalidad',\n",
              "       'fascinant', 'grand', 'lenguaj', 'modelo', 'mucha', 'natur',\n",
              "       'oculto', 'patron', 'poderosa', 'procesamiento', 'pued', 'pueden',\n",
              "       'recomendación', 'reducción', 'revelar', 'sistema', 'svd', 'texto',\n",
              "       'técnica', 'tópico', 'usar', 'utiliza', 'área'], dtype=object)"
            ]
          },
          "execution_count": 91,
          "metadata": {},
          "output_type": "execute_result"
        }
      ],
      "source": [
        "vectorizer.get_feature_names_out()"
      ]
    },
    {
      "cell_type": "code",
      "execution_count": 92,
      "metadata": {
        "colab": {
          "base_uri": "https://localhost:8080/"
        },
        "id": "eUuNbk55MUQu",
        "outputId": "44a3a87e-866a-4eaa-c4d3-9e61e9903fad"
      },
      "outputs": [
        {
          "name": "stdout",
          "output_type": "stream",
          "text": [
            "[[0.37202375 0.         0.         0.         0.         0.\n",
            "  0.         0.37202375 0.         0.         0.37202375 0.\n",
            "  0.         0.46111385 0.37202375 0.         0.         0.\n",
            "  0.         0.         0.         0.         0.         0.37202375\n",
            "  0.30881332 0.         0.         0.        ]\n",
            " [0.31888178 0.         0.         0.         0.39524574 0.\n",
            "  0.         0.         0.         0.         0.         0.\n",
            "  0.         0.         0.         0.39524574 0.         0.\n",
            "  0.39524574 0.         0.         0.31888178 0.         0.31888178\n",
            "  0.26470068 0.39524574 0.         0.        ]\n",
            " [0.         0.40986539 0.40986539 0.         0.         0.40986539\n",
            "  0.         0.33067681 0.         0.40986539 0.33067681 0.\n",
            "  0.         0.         0.33067681 0.         0.         0.\n",
            "  0.         0.         0.         0.         0.         0.\n",
            "  0.         0.         0.         0.        ]\n",
            " [0.         0.         0.         0.34404072 0.         0.\n",
            "  0.34404072 0.         0.34404072 0.         0.         0.34404072\n",
            "  0.34404072 0.         0.         0.         0.34404072 0.\n",
            "  0.         0.34404072 0.         0.         0.34404072 0.\n",
            "  0.23040808 0.         0.         0.        ]\n",
            " [0.         0.         0.         0.         0.         0.\n",
            "  0.         0.         0.         0.         0.         0.\n",
            "  0.         0.         0.         0.         0.         0.46369322\n",
            "  0.         0.         0.46369322 0.37410477 0.         0.\n",
            "  0.         0.         0.46369322 0.46369322]]\n"
          ]
        }
      ],
      "source": [
        "matriz_numpy = matriz_tf_idf.toarray()\n",
        "print(matriz_numpy)"
      ]
    },
    {
      "cell_type": "code",
      "execution_count": 93,
      "metadata": {
        "id": "PjrdhXH_Ph3e"
      },
      "outputs": [],
      "source": [
        "from sklearn.feature_extraction.text import CountVectorizer\n",
        "\n",
        "vectorizer = CountVectorizer()\n",
        "vectorizer.fit([\" \".join(doc) for doc in tokenizados])\n",
        "matriz_bolsa_palabras = vectorizer.transform([\" \".join(doc) for doc in tokenizados])"
      ]
    },
    {
      "cell_type": "code",
      "execution_count": 94,
      "metadata": {
        "colab": {
          "base_uri": "https://localhost:8080/"
        },
        "id": "loMvJIq0Pwz8",
        "outputId": "8aa476d6-220e-4095-e924-7f2fbb99a9c2"
      },
      "outputs": [
        {
          "data": {
            "text/plain": [
              "array([[1, 0, 0, 0, 0, 0, 0, 1, 0, 0, 1, 0, 0, 1, 1, 0, 0, 0, 0, 0, 0, 0,\n",
              "        0, 1, 1, 0, 0, 0],\n",
              "       [1, 0, 0, 0, 1, 0, 0, 0, 0, 0, 0, 0, 0, 0, 0, 1, 0, 0, 1, 0, 0, 1,\n",
              "        0, 1, 1, 1, 0, 0],\n",
              "       [0, 1, 1, 0, 0, 1, 0, 1, 0, 1, 1, 0, 0, 0, 1, 0, 0, 0, 0, 0, 0, 0,\n",
              "        0, 0, 0, 0, 0, 0],\n",
              "       [0, 0, 0, 1, 0, 0, 1, 0, 1, 0, 0, 1, 1, 0, 0, 0, 1, 0, 0, 1, 0, 0,\n",
              "        1, 0, 1, 0, 0, 0],\n",
              "       [0, 0, 0, 0, 0, 0, 0, 0, 0, 0, 0, 0, 0, 0, 0, 0, 0, 1, 0, 0, 1, 1,\n",
              "        0, 0, 0, 0, 1, 1]])"
            ]
          },
          "execution_count": 94,
          "metadata": {},
          "output_type": "execute_result"
        }
      ],
      "source": [
        "matriz_bolsa_palabras.toarray()"
      ]
    },
    {
      "cell_type": "code",
      "execution_count": 95,
      "metadata": {
        "colab": {
          "base_uri": "https://localhost:8080/"
        },
        "id": "2xKz_CcJP5EE",
        "outputId": "267a31df-f422-484f-eb6e-77669a31fcc4"
      },
      "outputs": [
        {
          "data": {
            "text/plain": [
              "array(['análisi', 'aplicacion', 'campo', 'cantidad', 'dimensionalidad',\n",
              "       'fascinant', 'grand', 'lenguaj', 'modelo', 'mucha', 'natur',\n",
              "       'oculto', 'patron', 'poderosa', 'procesamiento', 'pued', 'pueden',\n",
              "       'recomendación', 'reducción', 'revelar', 'sistema', 'svd', 'texto',\n",
              "       'técnica', 'tópico', 'usar', 'utiliza', 'área'], dtype=object)"
            ]
          },
          "execution_count": 95,
          "metadata": {},
          "output_type": "execute_result"
        }
      ],
      "source": [
        "vectorizer.vocabulary_\n",
        "vectorizer.get_feature_names_out()"
      ]
    },
    {
      "cell_type": "code",
      "execution_count": 96,
      "metadata": {
        "colab": {
          "base_uri": "https://localhost:8080/"
        },
        "id": "_Sc-THR6QpZP",
        "outputId": "85fb1e77-e0a7-4141-a949-a41de94396ea"
      },
      "outputs": [
        {
          "data": {
            "text/plain": [
              "(5, 28)"
            ]
          },
          "execution_count": 96,
          "metadata": {},
          "output_type": "execute_result"
        }
      ],
      "source": [
        "matriz_bolsa_palabras.get_shape()"
      ]
    },
    {
      "cell_type": "code",
      "execution_count": 134,
      "metadata": {
        "colab": {
          "base_uri": "https://localhost:8080/"
        },
        "id": "suHAUPjUSwlD",
        "outputId": "168edcbf-00b9-4576-a9ac-9f208c864852"
      },
      "outputs": [
        {
          "data": {
            "text/plain": [
              "array([[ 8.48805198e-01, -1.38272035e-01,  6.24500451e-17,\n",
              "        -1.15219514e-01],\n",
              "       [ 5.90125430e-01,  5.30086721e-01, -1.43205747e-15,\n",
              "        -5.07718535e-01],\n",
              "       [ 6.18359192e-01, -5.39475996e-01, -1.69188154e-01,\n",
              "         4.00811869e-01],\n",
              "       [ 1.90262304e-01,  2.37767356e-01,  8.77550045e-01,\n",
              "         3.69148421e-01],\n",
              "       [ 1.38964672e-01,  6.68516272e-01, -4.48643832e-01,\n",
              "         5.70906306e-01]])"
            ]
          },
          "execution_count": 134,
          "metadata": {},
          "output_type": "execute_result"
        }
      ],
      "source": [
        "matriz_tf_idf\n",
        "\n",
        "svd = TruncatedSVD(n_components=4)\n",
        "svd.fit(matriz_tf_idf)\n",
        "matriz_svd = svd.transform(matriz_tf_idf)\n",
        "matriz_svd\n",
        "#Cada columna representa un topico"
      ]
    },
    {
      "cell_type": "code",
      "execution_count": 135,
      "metadata": {
        "colab": {
          "base_uri": "https://localhost:8080/"
        },
        "id": "T_c3ObpVTu2z",
        "outputId": "fbffc066-aac0-4d56-c7d9-5556365b422b"
      },
      "outputs": [
        {
          "data": {
            "text/plain": [
              "array(['análisi', 'aplicacion', 'campo', 'cantidad', 'dimensionalidad',\n",
              "       'fascinant', 'grand', 'lenguaj', 'modelo', 'mucha', 'natur',\n",
              "       'oculto', 'patron', 'poderosa', 'procesamiento', 'pued', 'pueden',\n",
              "       'recomendación', 'reducción', 'revelar', 'sistema', 'svd', 'texto',\n",
              "       'técnica', 'tópico', 'usar', 'utiliza', 'área'], dtype=object)"
            ]
          },
          "execution_count": 135,
          "metadata": {},
          "output_type": "execute_result"
        }
      ],
      "source": [
        "terms = np.array(vectorizer.get_feature_names_out())\n",
        "terms"
      ]
    },
    {
      "cell_type": "code",
      "execution_count": 136,
      "metadata": {
        "colab": {
          "base_uri": "https://localhost:8080/"
        },
        "id": "sRrwirkeT4G7",
        "outputId": "f7b3f4f5-24e8-4798-ce9e-1fe85b79981c"
      },
      "outputs": [
        {
          "name": "stdout",
          "output_type": "stream",
          "text": [
            "Topico 1: \n",
            "\n",
            "procesamiento lenguaj natur análisi técnica\n",
            "Topico 2: \n",
            "\n",
            "svd área recomendación utiliza sistema\n",
            "Topico 3: \n",
            "\n",
            "pueden grand texto modelo oculto\n",
            "Topico 4: \n",
            "\n",
            "área sistema utiliza recomendación aplicacion\n"
          ]
        }
      ],
      "source": [
        "i = 0\n",
        "for val in svd.components_:\n",
        "  print(f'Topico {i+1}: \\n')\n",
        "  print(' '.join(terms[np.argsort(val)[::-1][:5]]))\n",
        "  i = i + 1"
      ]
    },
    {
      "cell_type": "code",
      "execution_count": 137,
      "metadata": {
        "colab": {
          "base_uri": "https://localhost:8080/"
        },
        "id": "NOeGs5OhVSKx",
        "outputId": "2fb5b1a1-d08b-4865-f75e-4a9f771573e8"
      },
      "outputs": [
        {
          "name": "stdout",
          "output_type": "stream",
          "text": [
            "Documento 1:\n",
            "Topico: 1\n",
            "Documento 2:\n",
            "Topico: 1\n",
            "Documento 3:\n",
            "Topico: 1\n",
            "Documento 4:\n",
            "Topico: 3\n",
            "Documento 5:\n",
            "Topico: 2\n"
          ]
        }
      ],
      "source": [
        "topicos_docuemnto = np.argmax(matriz_svd, axis = 1)\n",
        "i = 1\n",
        "for doc in topicos_docuemnto:\n",
        "  print(f'Documento {i}:')\n",
        "  print(f'Topico: {doc+1}')\n",
        "  i =i +1"
      ]
    }
  ],
  "metadata": {
    "colab": {
      "provenance": []
    },
    "kernelspec": {
      "display_name": "Python 3",
      "name": "python3"
    },
    "language_info": {
      "codemirror_mode": {
        "name": "ipython",
        "version": 3
      },
      "file_extension": ".py",
      "mimetype": "text/x-python",
      "name": "python",
      "nbconvert_exporter": "python",
      "pygments_lexer": "ipython3",
      "version": "3.12.8"
    }
  },
  "nbformat": 4,
  "nbformat_minor": 0
}
