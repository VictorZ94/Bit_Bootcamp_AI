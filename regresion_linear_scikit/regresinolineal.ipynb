{
 "cells": [
  {
   "cell_type": "code",
   "execution_count": null,
   "metadata": {},
   "outputs": [],
   "source": [
    "import pandas as pd\n",
    "import numpy as np\n",
    "from sklearn.model_selection import train_test_split\n",
    "from sklearn.linear_model import LinearRegression\n",
    "from sklearn.metrics import mean_squared_error, mean_absolute_error, r2_score"
   ]
  },
  {
   "cell_type": "markdown",
   "metadata": {},
   "source": [
    "leer los datos"
   ]
  },
  {
   "cell_type": "code",
   "execution_count": 15,
   "metadata": {},
   "outputs": [
    {
     "data": {
      "text/plain": [
       "Index(['song_name', 'song_popularity', 'song_duration_ms', 'acousticness',\n",
       "       'danceability', 'energy', 'instrumentalness', 'key', 'liveness',\n",
       "       'loudness', 'audio_mode', 'speechiness', 'tempo', 'time_signature',\n",
       "       'audio_valence'],\n",
       "      dtype='object')"
      ]
     },
     "execution_count": 15,
     "metadata": {},
     "output_type": "execute_result"
    }
   ],
   "source": [
    "ruta = 'song_data.csv' # your code here\n",
    "data_raw = pd.read_csv(ruta)\n",
    "\n",
    "data_raw.columns"
   ]
  },
  {
   "cell_type": "markdown",
   "metadata": {},
   "source": [
    "Datos nulos: si hya datos nulos en cada variable"
   ]
  },
  {
   "cell_type": "code",
   "execution_count": 16,
   "metadata": {},
   "outputs": [
    {
     "data": {
      "text/plain": [
       "song_name           0\n",
       "song_popularity     0\n",
       "song_duration_ms    0\n",
       "acousticness        0\n",
       "danceability        0\n",
       "energy              0\n",
       "instrumentalness    0\n",
       "key                 0\n",
       "liveness            0\n",
       "loudness            0\n",
       "audio_mode          0\n",
       "speechiness         0\n",
       "tempo               0\n",
       "time_signature      0\n",
       "audio_valence       0\n",
       "dtype: int64"
      ]
     },
     "execution_count": 16,
     "metadata": {},
     "output_type": "execute_result"
    }
   ],
   "source": [
    "data_raw.isna().sum()"
   ]
  },
  {
   "cell_type": "markdown",
   "metadata": {},
   "source": [
    "Si hay duplicados"
   ]
  },
  {
   "cell_type": "code",
   "execution_count": 17,
   "metadata": {},
   "outputs": [
    {
     "data": {
      "text/plain": [
       "(18835, 15)"
      ]
     },
     "execution_count": 17,
     "metadata": {},
     "output_type": "execute_result"
    }
   ],
   "source": [
    "data_raw.shape"
   ]
  },
  {
   "cell_type": "code",
   "execution_count": 18,
   "metadata": {},
   "outputs": [
    {
     "data": {
      "text/plain": [
       "3909"
      ]
     },
     "execution_count": 18,
     "metadata": {},
     "output_type": "execute_result"
    }
   ],
   "source": [
    "data_raw.duplicated().sum()"
   ]
  },
  {
   "cell_type": "code",
   "execution_count": 19,
   "metadata": {},
   "outputs": [
    {
     "data": {
      "text/plain": [
       "(14926, 15)"
      ]
     },
     "execution_count": 19,
     "metadata": {},
     "output_type": "execute_result"
    }
   ],
   "source": [
    "data_raw = data_raw.drop_duplicates()\n",
    "\n",
    "data_raw.shape\n",
    "# data = data.drop(['song_name'], axis=1)"
   ]
  },
  {
   "cell_type": "code",
   "execution_count": 20,
   "metadata": {},
   "outputs": [],
   "source": [
    "data_raw = data_raw.drop(['song_name'], axis=1)"
   ]
  },
  {
   "cell_type": "code",
   "execution_count": 22,
   "metadata": {},
   "outputs": [
    {
     "data": {
      "text/plain": [
       "Index(['song_popularity', 'song_duration_ms', 'acousticness', 'danceability',\n",
       "       'energy', 'instrumentalness', 'key', 'liveness', 'loudness',\n",
       "       'audio_mode', 'speechiness', 'tempo', 'time_signature',\n",
       "       'audio_valence'],\n",
       "      dtype='object')"
      ]
     },
     "execution_count": 22,
     "metadata": {},
     "output_type": "execute_result"
    }
   ],
   "source": [
    "data_raw.columns"
   ]
  },
  {
   "cell_type": "code",
   "execution_count": 26,
   "metadata": {},
   "outputs": [
    {
     "data": {
      "text/plain": [
       "(11940, 14)"
      ]
     },
     "execution_count": 26,
     "metadata": {},
     "output_type": "execute_result"
    }
   ],
   "source": [
    "train, test = train_test_split(data_raw, test_size=0.2, random_state=0)\n",
    "train.shape"
   ]
  },
  {
   "cell_type": "code",
   "execution_count": 25,
   "metadata": {},
   "outputs": [
    {
     "data": {
      "text/plain": [
       "(2986, 14)"
      ]
     },
     "execution_count": 25,
     "metadata": {},
     "output_type": "execute_result"
    }
   ],
   "source": [
    "test.shape"
   ]
  },
  {
   "cell_type": "code",
   "execution_count": 29,
   "metadata": {},
   "outputs": [
    {
     "data": {
      "text/plain": [
       "Index(['song_popularity', 'song_duration_ms', 'acousticness', 'danceability',\n",
       "       'energy', 'instrumentalness', 'key', 'liveness', 'loudness',\n",
       "       'audio_mode', 'speechiness', 'tempo', 'time_signature',\n",
       "       'audio_valence'],\n",
       "      dtype='object')"
      ]
     },
     "execution_count": 29,
     "metadata": {},
     "output_type": "execute_result"
    }
   ],
   "source": [
    "train.columns"
   ]
  },
  {
   "cell_type": "code",
   "execution_count": 34,
   "metadata": {},
   "outputs": [],
   "source": [
    "x_train = train.drop(['song_popularity'], axis=1)\n",
    "y_train = train['song_popularity']"
   ]
  },
  {
   "cell_type": "code",
   "execution_count": 36,
   "metadata": {},
   "outputs": [
    {
     "data": {
      "text/html": [
       "<style>#sk-container-id-1 {color: black;}#sk-container-id-1 pre{padding: 0;}#sk-container-id-1 div.sk-toggleable {background-color: white;}#sk-container-id-1 label.sk-toggleable__label {cursor: pointer;display: block;width: 100%;margin-bottom: 0;padding: 0.3em;box-sizing: border-box;text-align: center;}#sk-container-id-1 label.sk-toggleable__label-arrow:before {content: \"▸\";float: left;margin-right: 0.25em;color: #696969;}#sk-container-id-1 label.sk-toggleable__label-arrow:hover:before {color: black;}#sk-container-id-1 div.sk-estimator:hover label.sk-toggleable__label-arrow:before {color: black;}#sk-container-id-1 div.sk-toggleable__content {max-height: 0;max-width: 0;overflow: hidden;text-align: left;background-color: #f0f8ff;}#sk-container-id-1 div.sk-toggleable__content pre {margin: 0.2em;color: black;border-radius: 0.25em;background-color: #f0f8ff;}#sk-container-id-1 input.sk-toggleable__control:checked~div.sk-toggleable__content {max-height: 200px;max-width: 100%;overflow: auto;}#sk-container-id-1 input.sk-toggleable__control:checked~label.sk-toggleable__label-arrow:before {content: \"▾\";}#sk-container-id-1 div.sk-estimator input.sk-toggleable__control:checked~label.sk-toggleable__label {background-color: #d4ebff;}#sk-container-id-1 div.sk-label input.sk-toggleable__control:checked~label.sk-toggleable__label {background-color: #d4ebff;}#sk-container-id-1 input.sk-hidden--visually {border: 0;clip: rect(1px 1px 1px 1px);clip: rect(1px, 1px, 1px, 1px);height: 1px;margin: -1px;overflow: hidden;padding: 0;position: absolute;width: 1px;}#sk-container-id-1 div.sk-estimator {font-family: monospace;background-color: #f0f8ff;border: 1px dotted black;border-radius: 0.25em;box-sizing: border-box;margin-bottom: 0.5em;}#sk-container-id-1 div.sk-estimator:hover {background-color: #d4ebff;}#sk-container-id-1 div.sk-parallel-item::after {content: \"\";width: 100%;border-bottom: 1px solid gray;flex-grow: 1;}#sk-container-id-1 div.sk-label:hover label.sk-toggleable__label {background-color: #d4ebff;}#sk-container-id-1 div.sk-serial::before {content: \"\";position: absolute;border-left: 1px solid gray;box-sizing: border-box;top: 0;bottom: 0;left: 50%;z-index: 0;}#sk-container-id-1 div.sk-serial {display: flex;flex-direction: column;align-items: center;background-color: white;padding-right: 0.2em;padding-left: 0.2em;position: relative;}#sk-container-id-1 div.sk-item {position: relative;z-index: 1;}#sk-container-id-1 div.sk-parallel {display: flex;align-items: stretch;justify-content: center;background-color: white;position: relative;}#sk-container-id-1 div.sk-item::before, #sk-container-id-1 div.sk-parallel-item::before {content: \"\";position: absolute;border-left: 1px solid gray;box-sizing: border-box;top: 0;bottom: 0;left: 50%;z-index: -1;}#sk-container-id-1 div.sk-parallel-item {display: flex;flex-direction: column;z-index: 1;position: relative;background-color: white;}#sk-container-id-1 div.sk-parallel-item:first-child::after {align-self: flex-end;width: 50%;}#sk-container-id-1 div.sk-parallel-item:last-child::after {align-self: flex-start;width: 50%;}#sk-container-id-1 div.sk-parallel-item:only-child::after {width: 0;}#sk-container-id-1 div.sk-dashed-wrapped {border: 1px dashed gray;margin: 0 0.4em 0.5em 0.4em;box-sizing: border-box;padding-bottom: 0.4em;background-color: white;}#sk-container-id-1 div.sk-label label {font-family: monospace;font-weight: bold;display: inline-block;line-height: 1.2em;}#sk-container-id-1 div.sk-label-container {text-align: center;}#sk-container-id-1 div.sk-container {/* jupyter's `normalize.less` sets `[hidden] { display: none; }` but bootstrap.min.css set `[hidden] { display: none !important; }` so we also need the `!important` here to be able to override the default hidden behavior on the sphinx rendered scikit-learn.org. See: https://github.com/scikit-learn/scikit-learn/issues/21755 */display: inline-block !important;position: relative;}#sk-container-id-1 div.sk-text-repr-fallback {display: none;}</style><div id=\"sk-container-id-1\" class=\"sk-top-container\"><div class=\"sk-text-repr-fallback\"><pre>LinearRegression()</pre><b>In a Jupyter environment, please rerun this cell to show the HTML representation or trust the notebook. <br />On GitHub, the HTML representation is unable to render, please try loading this page with nbviewer.org.</b></div><div class=\"sk-container\" hidden><div class=\"sk-item\"><div class=\"sk-estimator sk-toggleable\"><input class=\"sk-toggleable__control sk-hidden--visually\" id=\"sk-estimator-id-1\" type=\"checkbox\" checked><label for=\"sk-estimator-id-1\" class=\"sk-toggleable__label sk-toggleable__label-arrow\">LinearRegression</label><div class=\"sk-toggleable__content\"><pre>LinearRegression()</pre></div></div></div></div></div>"
      ],
      "text/plain": [
       "LinearRegression()"
      ]
     },
     "execution_count": 36,
     "metadata": {},
     "output_type": "execute_result"
    }
   ],
   "source": [
    "regresion = LinearRegression()\n",
    "regresion.fit(x_train, y_train)"
   ]
  },
  {
   "cell_type": "code",
   "execution_count": 37,
   "metadata": {},
   "outputs": [
    {
     "name": "stdout",
     "output_type": "stream",
     "text": [
      "Coeficientes: \n",
      " [('song_duration_ms', -1.6869775350492215e-06), ('acousticness', -2.630870893870111), ('danceability', 6.067542963095232), ('energy', -10.377233088647937), ('instrumentalness', -6.611366174356007), ('key', 0.011543362067393927), ('liveness', -3.9559413538688424), ('loudness', 0.5009366759133856), ('audio_mode', 0.5555952003401474), ('speechiness', -3.428583025456097), ('tempo', -0.009264412618905234), ('time_signature', 0.712616908751798), ('audio_valence', -5.452651161131332)]\n",
      "Intercepto:  58.93734587158693\n"
     ]
    }
   ],
   "source": [
    "print ('Coeficientes: \\n', list(zip(x_train.columns, regresion.coef_))) \n",
    "print ('Intercepto: ',regresion.intercept_)"
   ]
  },
  {
   "cell_type": "code",
   "execution_count": 43,
   "metadata": {},
   "outputs": [
    {
     "name": "stdout",
     "output_type": "stream",
     "text": [
      "Error cuadrático medio Entranamiento:  20.105627394193387\n"
     ]
    }
   ],
   "source": [
    "y_pred_train = regresion.predict(x_train)\n",
    "error = mean_squared_error(y_train, y_pred_train, squared=False)\n",
    "print ('Error cuadrático medio Entranamiento: ', error)"
   ]
  },
  {
   "cell_type": "code",
   "execution_count": 42,
   "metadata": {},
   "outputs": [
    {
     "data": {
      "text/html": [
       "<div>\n",
       "<style scoped>\n",
       "    .dataframe tbody tr th:only-of-type {\n",
       "        vertical-align: middle;\n",
       "    }\n",
       "\n",
       "    .dataframe tbody tr th {\n",
       "        vertical-align: top;\n",
       "    }\n",
       "\n",
       "    .dataframe thead th {\n",
       "        text-align: right;\n",
       "    }\n",
       "</style>\n",
       "<table border=\"1\" class=\"dataframe\">\n",
       "  <thead>\n",
       "    <tr style=\"text-align: right;\">\n",
       "      <th></th>\n",
       "      <th>song_popularity</th>\n",
       "      <th>song_duration_ms</th>\n",
       "      <th>acousticness</th>\n",
       "      <th>danceability</th>\n",
       "      <th>energy</th>\n",
       "      <th>instrumentalness</th>\n",
       "      <th>key</th>\n",
       "      <th>liveness</th>\n",
       "      <th>loudness</th>\n",
       "      <th>audio_mode</th>\n",
       "      <th>speechiness</th>\n",
       "      <th>tempo</th>\n",
       "      <th>time_signature</th>\n",
       "      <th>audio_valence</th>\n",
       "    </tr>\n",
       "  </thead>\n",
       "  <tbody>\n",
       "    <tr>\n",
       "      <th>2833</th>\n",
       "      <td>31</td>\n",
       "      <td>214093</td>\n",
       "      <td>0.00968</td>\n",
       "      <td>0.532</td>\n",
       "      <td>0.675</td>\n",
       "      <td>0.124000</td>\n",
       "      <td>0</td>\n",
       "      <td>0.0765</td>\n",
       "      <td>-8.526</td>\n",
       "      <td>1</td>\n",
       "      <td>0.0606</td>\n",
       "      <td>142.091</td>\n",
       "      <td>4</td>\n",
       "      <td>0.483</td>\n",
       "    </tr>\n",
       "    <tr>\n",
       "      <th>10242</th>\n",
       "      <td>39</td>\n",
       "      <td>291733</td>\n",
       "      <td>0.65800</td>\n",
       "      <td>0.553</td>\n",
       "      <td>0.638</td>\n",
       "      <td>0.839000</td>\n",
       "      <td>10</td>\n",
       "      <td>0.1410</td>\n",
       "      <td>-8.383</td>\n",
       "      <td>1</td>\n",
       "      <td>0.0310</td>\n",
       "      <td>96.092</td>\n",
       "      <td>4</td>\n",
       "      <td>0.443</td>\n",
       "    </tr>\n",
       "    <tr>\n",
       "      <th>438</th>\n",
       "      <td>52</td>\n",
       "      <td>313466</td>\n",
       "      <td>0.08890</td>\n",
       "      <td>0.321</td>\n",
       "      <td>0.627</td>\n",
       "      <td>0.008780</td>\n",
       "      <td>8</td>\n",
       "      <td>0.0699</td>\n",
       "      <td>-9.509</td>\n",
       "      <td>0</td>\n",
       "      <td>0.0542</td>\n",
       "      <td>132.855</td>\n",
       "      <td>4</td>\n",
       "      <td>0.141</td>\n",
       "    </tr>\n",
       "    <tr>\n",
       "      <th>18018</th>\n",
       "      <td>14</td>\n",
       "      <td>230696</td>\n",
       "      <td>0.05570</td>\n",
       "      <td>0.534</td>\n",
       "      <td>0.615</td>\n",
       "      <td>0.000002</td>\n",
       "      <td>11</td>\n",
       "      <td>0.0992</td>\n",
       "      <td>-5.411</td>\n",
       "      <td>0</td>\n",
       "      <td>0.0389</td>\n",
       "      <td>141.915</td>\n",
       "      <td>4</td>\n",
       "      <td>0.397</td>\n",
       "    </tr>\n",
       "    <tr>\n",
       "      <th>1960</th>\n",
       "      <td>23</td>\n",
       "      <td>171360</td>\n",
       "      <td>0.00427</td>\n",
       "      <td>0.597</td>\n",
       "      <td>0.837</td>\n",
       "      <td>0.001140</td>\n",
       "      <td>10</td>\n",
       "      <td>0.8390</td>\n",
       "      <td>-6.518</td>\n",
       "      <td>1</td>\n",
       "      <td>0.3750</td>\n",
       "      <td>126.342</td>\n",
       "      <td>4</td>\n",
       "      <td>0.447</td>\n",
       "    </tr>\n",
       "    <tr>\n",
       "      <th>...</th>\n",
       "      <td>...</td>\n",
       "      <td>...</td>\n",
       "      <td>...</td>\n",
       "      <td>...</td>\n",
       "      <td>...</td>\n",
       "      <td>...</td>\n",
       "      <td>...</td>\n",
       "      <td>...</td>\n",
       "      <td>...</td>\n",
       "      <td>...</td>\n",
       "      <td>...</td>\n",
       "      <td>...</td>\n",
       "      <td>...</td>\n",
       "      <td>...</td>\n",
       "    </tr>\n",
       "    <tr>\n",
       "      <th>2753</th>\n",
       "      <td>34</td>\n",
       "      <td>174186</td>\n",
       "      <td>0.87700</td>\n",
       "      <td>0.544</td>\n",
       "      <td>0.341</td>\n",
       "      <td>0.049300</td>\n",
       "      <td>0</td>\n",
       "      <td>0.1830</td>\n",
       "      <td>-10.340</td>\n",
       "      <td>1</td>\n",
       "      <td>0.0293</td>\n",
       "      <td>123.598</td>\n",
       "      <td>3</td>\n",
       "      <td>0.566</td>\n",
       "    </tr>\n",
       "    <tr>\n",
       "      <th>15013</th>\n",
       "      <td>50</td>\n",
       "      <td>202879</td>\n",
       "      <td>0.08340</td>\n",
       "      <td>0.631</td>\n",
       "      <td>0.847</td>\n",
       "      <td>0.000000</td>\n",
       "      <td>3</td>\n",
       "      <td>0.3180</td>\n",
       "      <td>-4.782</td>\n",
       "      <td>1</td>\n",
       "      <td>0.1600</td>\n",
       "      <td>141.965</td>\n",
       "      <td>4</td>\n",
       "      <td>0.704</td>\n",
       "    </tr>\n",
       "    <tr>\n",
       "      <th>9561</th>\n",
       "      <td>54</td>\n",
       "      <td>243773</td>\n",
       "      <td>0.85800</td>\n",
       "      <td>0.519</td>\n",
       "      <td>0.214</td>\n",
       "      <td>0.002100</td>\n",
       "      <td>5</td>\n",
       "      <td>0.1180</td>\n",
       "      <td>-11.243</td>\n",
       "      <td>1</td>\n",
       "      <td>0.0298</td>\n",
       "      <td>144.411</td>\n",
       "      <td>4</td>\n",
       "      <td>0.229</td>\n",
       "    </tr>\n",
       "    <tr>\n",
       "      <th>13255</th>\n",
       "      <td>24</td>\n",
       "      <td>354493</td>\n",
       "      <td>0.79100</td>\n",
       "      <td>0.371</td>\n",
       "      <td>0.569</td>\n",
       "      <td>0.000000</td>\n",
       "      <td>7</td>\n",
       "      <td>0.1170</td>\n",
       "      <td>-4.641</td>\n",
       "      <td>1</td>\n",
       "      <td>0.0345</td>\n",
       "      <td>135.821</td>\n",
       "      <td>3</td>\n",
       "      <td>0.185</td>\n",
       "    </tr>\n",
       "    <tr>\n",
       "      <th>3892</th>\n",
       "      <td>15</td>\n",
       "      <td>201413</td>\n",
       "      <td>0.82900</td>\n",
       "      <td>0.322</td>\n",
       "      <td>0.326</td>\n",
       "      <td>0.000001</td>\n",
       "      <td>9</td>\n",
       "      <td>0.1980</td>\n",
       "      <td>-12.433</td>\n",
       "      <td>1</td>\n",
       "      <td>0.0521</td>\n",
       "      <td>188.734</td>\n",
       "      <td>4</td>\n",
       "      <td>0.490</td>\n",
       "    </tr>\n",
       "  </tbody>\n",
       "</table>\n",
       "<p>2986 rows × 14 columns</p>\n",
       "</div>"
      ],
      "text/plain": [
       "       song_popularity  song_duration_ms  acousticness  danceability  energy  \\\n",
       "2833                31            214093       0.00968         0.532   0.675   \n",
       "10242               39            291733       0.65800         0.553   0.638   \n",
       "438                 52            313466       0.08890         0.321   0.627   \n",
       "18018               14            230696       0.05570         0.534   0.615   \n",
       "1960                23            171360       0.00427         0.597   0.837   \n",
       "...                ...               ...           ...           ...     ...   \n",
       "2753                34            174186       0.87700         0.544   0.341   \n",
       "15013               50            202879       0.08340         0.631   0.847   \n",
       "9561                54            243773       0.85800         0.519   0.214   \n",
       "13255               24            354493       0.79100         0.371   0.569   \n",
       "3892                15            201413       0.82900         0.322   0.326   \n",
       "\n",
       "       instrumentalness  key  liveness  loudness  audio_mode  speechiness  \\\n",
       "2833           0.124000    0    0.0765    -8.526           1       0.0606   \n",
       "10242          0.839000   10    0.1410    -8.383           1       0.0310   \n",
       "438            0.008780    8    0.0699    -9.509           0       0.0542   \n",
       "18018          0.000002   11    0.0992    -5.411           0       0.0389   \n",
       "1960           0.001140   10    0.8390    -6.518           1       0.3750   \n",
       "...                 ...  ...       ...       ...         ...          ...   \n",
       "2753           0.049300    0    0.1830   -10.340           1       0.0293   \n",
       "15013          0.000000    3    0.3180    -4.782           1       0.1600   \n",
       "9561           0.002100    5    0.1180   -11.243           1       0.0298   \n",
       "13255          0.000000    7    0.1170    -4.641           1       0.0345   \n",
       "3892           0.000001    9    0.1980   -12.433           1       0.0521   \n",
       "\n",
       "         tempo  time_signature  audio_valence  \n",
       "2833   142.091               4          0.483  \n",
       "10242   96.092               4          0.443  \n",
       "438    132.855               4          0.141  \n",
       "18018  141.915               4          0.397  \n",
       "1960   126.342               4          0.447  \n",
       "...        ...             ...            ...  \n",
       "2753   123.598               3          0.566  \n",
       "15013  141.965               4          0.704  \n",
       "9561   144.411               4          0.229  \n",
       "13255  135.821               3          0.185  \n",
       "3892   188.734               4          0.490  \n",
       "\n",
       "[2986 rows x 14 columns]"
      ]
     },
     "execution_count": 42,
     "metadata": {},
     "output_type": "execute_result"
    }
   ],
   "source": [
    "test"
   ]
  },
  {
   "cell_type": "code",
   "execution_count": 18,
   "metadata": {},
   "outputs": [],
   "source": [
    "x_test = test.drop(['song_popularity'], axis=1)\n",
    "y_test = test['song_popularity']"
   ]
  },
  {
   "cell_type": "code",
   "execution_count": 19,
   "metadata": {},
   "outputs": [],
   "source": [
    "y_pred = regresion.predict(x_test)"
   ]
  },
  {
   "cell_type": "code",
   "execution_count": 22,
   "metadata": {},
   "outputs": [
    {
     "name": "stdout",
     "output_type": "stream",
     "text": [
      "RMSE:  20.28462756391579\n"
     ]
    }
   ],
   "source": [
    "rmse = mean_squared_error(y_test, y_pred,squared=False)\n",
    "print(\"RMSE: \", rmse)"
   ]
  },
  {
   "cell_type": "code",
   "execution_count": 23,
   "metadata": {},
   "outputs": [
    {
     "name": "stdout",
     "output_type": "stream",
     "text": [
      "MAE:  16.281255362592358\n"
     ]
    }
   ],
   "source": [
    "# mae = mean_absolute_error(y_test, y_pred)\n",
    "# print(\"MAE: \", mae)"
   ]
  }
 ],
 "metadata": {
  "kernelspec": {
   "display_name": "Python 3",
   "language": "python",
   "name": "python3"
  },
  "language_info": {
   "codemirror_mode": {
    "name": "ipython",
    "version": 3
   },
   "file_extension": ".py",
   "mimetype": "text/x-python",
   "name": "python",
   "nbconvert_exporter": "python",
   "pygments_lexer": "ipython3",
   "version": "3.12.8"
  }
 },
 "nbformat": 4,
 "nbformat_minor": 2
}
